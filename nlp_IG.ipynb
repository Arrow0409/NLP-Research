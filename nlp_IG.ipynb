{
 "cells": [
  {
   "cell_type": "code",
   "execution_count": 1,
   "id": "4c8728b7",
   "metadata": {
    "execution": {
     "iopub.execute_input": "2024-08-03T19:21:25.936887Z",
     "iopub.status.busy": "2024-08-03T19:21:25.936554Z",
     "iopub.status.idle": "2024-08-03T19:24:05.549959Z",
     "shell.execute_reply": "2024-08-03T19:24:05.548824Z"
    },
    "papermill": {
     "duration": 159.628006,
     "end_time": "2024-08-03T19:24:05.552229",
     "exception": false,
     "start_time": "2024-08-03T19:21:25.924223",
     "status": "completed"
    },
    "tags": []
   },
   "outputs": [
    {
     "name": "stdout",
     "output_type": "stream",
     "text": [
      "--2024-08-03 19:21:26--  https://downloads.cs.stanford.edu/nlp/data/glove.6B.zip\r\n",
      "Resolving downloads.cs.stanford.edu (downloads.cs.stanford.edu)... 171.64.64.22\r\n",
      "Connecting to downloads.cs.stanford.edu (downloads.cs.stanford.edu)|171.64.64.22|:443... connected.\r\n",
      "HTTP request sent, awaiting response... 200 OK\r\n",
      "Length: 862182613 (822M) [application/zip]\r\n",
      "Saving to: 'glove.6B.zip'\r\n",
      "\r\n",
      "glove.6B.zip        100%[===================>] 822.24M  5.01MB/s    in 2m 38s  \r\n",
      "\r\n",
      "2024-08-03 19:24:05 (5.19 MB/s) - 'glove.6B.zip' saved [862182613/862182613]\r\n",
      "\r\n"
     ]
    }
   ],
   "source": [
    "# GloVe Embeddings\n",
    "!wget --no-check-certificate https://downloads.cs.stanford.edu/nlp/data/glove.6B.zip"
   ]
  },
  {
   "cell_type": "code",
   "execution_count": 2,
   "id": "31d7cf04",
   "metadata": {
    "execution": {
     "iopub.execute_input": "2024-08-03T19:24:05.698143Z",
     "iopub.status.busy": "2024-08-03T19:24:05.697478Z",
     "iopub.status.idle": "2024-08-03T19:24:27.007187Z",
     "shell.execute_reply": "2024-08-03T19:24:27.005987Z"
    },
    "papermill": {
     "duration": 21.384491,
     "end_time": "2024-08-03T19:24:27.009768",
     "exception": false,
     "start_time": "2024-08-03T19:24:05.625277",
     "status": "completed"
    },
    "tags": []
   },
   "outputs": [],
   "source": [
    "!unzip -q glove.6B.zip"
   ]
  },
  {
   "cell_type": "code",
   "execution_count": 3,
   "id": "f1436db4",
   "metadata": {
    "execution": {
     "iopub.execute_input": "2024-08-03T19:24:27.157895Z",
     "iopub.status.busy": "2024-08-03T19:24:27.157114Z",
     "iopub.status.idle": "2024-08-03T19:24:44.246719Z",
     "shell.execute_reply": "2024-08-03T19:24:44.245962Z"
    },
    "papermill": {
     "duration": 17.165633,
     "end_time": "2024-08-03T19:24:44.249152",
     "exception": false,
     "start_time": "2024-08-03T19:24:27.083519",
     "status": "completed"
    },
    "tags": []
   },
   "outputs": [
    {
     "name": "stderr",
     "output_type": "stream",
     "text": [
      "2024-08-03 19:24:30.402578: E external/local_xla/xla/stream_executor/cuda/cuda_dnn.cc:9261] Unable to register cuDNN factory: Attempting to register factory for plugin cuDNN when one has already been registered\n",
      "2024-08-03 19:24:30.402673: E external/local_xla/xla/stream_executor/cuda/cuda_fft.cc:607] Unable to register cuFFT factory: Attempting to register factory for plugin cuFFT when one has already been registered\n",
      "2024-08-03 19:24:30.611605: E external/local_xla/xla/stream_executor/cuda/cuda_blas.cc:1515] Unable to register cuBLAS factory: Attempting to register factory for plugin cuBLAS when one has already been registered\n"
     ]
    }
   ],
   "source": [
    "import matplotlib.pyplot as plt\n",
    "import pandas as pd\n",
    "import numpy as np\n",
    "import tensorflow as tf\n",
    "import tensorflow_datasets as tfds\n",
    "import tensorflow_hub as thub\n",
    "import keras\n",
    "from keras import models\n",
    "from keras import layers\n",
    "from keras import optimizers\n",
    "from keras import losses\n",
    "import time\n",
    "\n",
    "import gc\n",
    "gc.enable()"
   ]
  },
  {
   "cell_type": "code",
   "execution_count": 4,
   "id": "28cccc1b",
   "metadata": {
    "execution": {
     "iopub.execute_input": "2024-08-03T19:24:44.445344Z",
     "iopub.status.busy": "2024-08-03T19:24:44.444328Z",
     "iopub.status.idle": "2024-08-03T19:24:44.448912Z",
     "shell.execute_reply": "2024-08-03T19:24:44.448015Z"
    },
    "papermill": {
     "duration": 0.080971,
     "end_time": "2024-08-03T19:24:44.450900",
     "exception": false,
     "start_time": "2024-08-03T19:24:44.369929",
     "status": "completed"
    },
    "tags": []
   },
   "outputs": [],
   "source": [
    "BATCH_SIZE = 32\n",
    "BUFFER_SIZE = 1000"
   ]
  },
  {
   "cell_type": "code",
   "execution_count": 5,
   "id": "843c68e5",
   "metadata": {
    "execution": {
     "iopub.execute_input": "2024-08-03T19:24:44.597899Z",
     "iopub.status.busy": "2024-08-03T19:24:44.597543Z",
     "iopub.status.idle": "2024-08-03T19:25:33.653815Z",
     "shell.execute_reply": "2024-08-03T19:25:33.653081Z"
    },
    "papermill": {
     "duration": 49.131932,
     "end_time": "2024-08-03T19:25:33.656175",
     "exception": false,
     "start_time": "2024-08-03T19:24:44.524243",
     "status": "completed"
    },
    "tags": []
   },
   "outputs": [
    {
     "name": "stdout",
     "output_type": "stream",
     "text": [
      "\u001b[1mDownloading and preparing dataset 80.23 MiB (download: 80.23 MiB, generated: Unknown size, total: 80.23 MiB) to /root/tensorflow_datasets/imdb_reviews/plain_text/1.0.0...\u001b[0m\n"
     ]
    },
    {
     "data": {
      "application/vnd.jupyter.widget-view+json": {
       "model_id": "ca3381bb8f504625b94d910fd606bd4f",
       "version_major": 2,
       "version_minor": 0
      },
      "text/plain": [
       "Dl Completed...: 0 url [00:00, ? url/s]"
      ]
     },
     "metadata": {},
     "output_type": "display_data"
    },
    {
     "data": {
      "application/vnd.jupyter.widget-view+json": {
       "model_id": "6443b84125c949b2bc84e5cb4023ac60",
       "version_major": 2,
       "version_minor": 0
      },
      "text/plain": [
       "Dl Size...: 0 MiB [00:00, ? MiB/s]"
      ]
     },
     "metadata": {},
     "output_type": "display_data"
    },
    {
     "data": {
      "application/vnd.jupyter.widget-view+json": {
       "model_id": "0f20f7bea0054b68bf0d87cf7e6013ca",
       "version_major": 2,
       "version_minor": 0
      },
      "text/plain": [
       "Generating splits...:   0%|          | 0/3 [00:00<?, ? splits/s]"
      ]
     },
     "metadata": {},
     "output_type": "display_data"
    },
    {
     "data": {
      "application/vnd.jupyter.widget-view+json": {
       "model_id": "47b06a4164274ab2996ee9a2cd66b83a",
       "version_major": 2,
       "version_minor": 0
      },
      "text/plain": [
       "Generating train examples...:   0%|          | 0/25000 [00:00<?, ? examples/s]"
      ]
     },
     "metadata": {},
     "output_type": "display_data"
    },
    {
     "data": {
      "application/vnd.jupyter.widget-view+json": {
       "model_id": "cd0ec4e38969471ea54740f6aa74d91b",
       "version_major": 2,
       "version_minor": 0
      },
      "text/plain": [
       "Shuffling /root/tensorflow_datasets/imdb_reviews/plain_text/1.0.0.incomplete2AYCP3/imdb_reviews-train.tfrecord…"
      ]
     },
     "metadata": {},
     "output_type": "display_data"
    },
    {
     "data": {
      "application/vnd.jupyter.widget-view+json": {
       "model_id": "113dea0fe29a4b9dbabff1f47723dc2a",
       "version_major": 2,
       "version_minor": 0
      },
      "text/plain": [
       "Generating test examples...:   0%|          | 0/25000 [00:00<?, ? examples/s]"
      ]
     },
     "metadata": {},
     "output_type": "display_data"
    },
    {
     "data": {
      "application/vnd.jupyter.widget-view+json": {
       "model_id": "f368600193d54279933d67a4dd90d86c",
       "version_major": 2,
       "version_minor": 0
      },
      "text/plain": [
       "Shuffling /root/tensorflow_datasets/imdb_reviews/plain_text/1.0.0.incomplete2AYCP3/imdb_reviews-test.tfrecord*…"
      ]
     },
     "metadata": {},
     "output_type": "display_data"
    },
    {
     "data": {
      "application/vnd.jupyter.widget-view+json": {
       "model_id": "f8e940f5c1e645cb8f5064259ecae872",
       "version_major": 2,
       "version_minor": 0
      },
      "text/plain": [
       "Generating unsupervised examples...:   0%|          | 0/50000 [00:00<?, ? examples/s]"
      ]
     },
     "metadata": {},
     "output_type": "display_data"
    },
    {
     "data": {
      "application/vnd.jupyter.widget-view+json": {
       "model_id": "3376ab8cb58d4a0e810378296e8b6d1d",
       "version_major": 2,
       "version_minor": 0
      },
      "text/plain": [
       "Shuffling /root/tensorflow_datasets/imdb_reviews/plain_text/1.0.0.incomplete2AYCP3/imdb_reviews-unsupervised.t…"
      ]
     },
     "metadata": {},
     "output_type": "display_data"
    },
    {
     "name": "stdout",
     "output_type": "stream",
     "text": [
      "\u001b[1mDataset imdb_reviews downloaded and prepared to /root/tensorflow_datasets/imdb_reviews/plain_text/1.0.0. Subsequent calls will reuse this data.\u001b[0m\n"
     ]
    }
   ],
   "source": [
    "ds, info = tfds.load('imdb_reviews', \n",
    "                     with_info=True,\n",
    "                     as_supervised=True)"
   ]
  },
  {
   "cell_type": "code",
   "execution_count": 6,
   "id": "3b990261",
   "metadata": {
    "execution": {
     "iopub.execute_input": "2024-08-03T19:25:33.808963Z",
     "iopub.status.busy": "2024-08-03T19:25:33.808488Z",
     "iopub.status.idle": "2024-08-03T19:25:46.352791Z",
     "shell.execute_reply": "2024-08-03T19:25:46.351790Z"
    },
    "papermill": {
     "duration": 12.62402,
     "end_time": "2024-08-03T19:25:46.355265",
     "exception": false,
     "start_time": "2024-08-03T19:25:33.731245",
     "status": "completed"
    },
    "tags": []
   },
   "outputs": [
    {
     "name": "stdout",
     "output_type": "stream",
     "text": [
      "Found 400000 word vectors.\n"
     ]
    }
   ],
   "source": [
    "path_to_glove_file = \"glove.6B.100d.txt\"\n",
    "\n",
    "embeddings_index = {}\n",
    "with open(path_to_glove_file) as f:\n",
    "    for line in f:\n",
    "        word, coefs = line.split(maxsplit=1)\n",
    "        coefs = np.fromstring(coefs, \"f\", sep=\" \")\n",
    "        embeddings_index[word] = coefs\n",
    "\n",
    "print(\"Found %s word vectors.\" % len(embeddings_index))"
   ]
  },
  {
   "cell_type": "code",
   "execution_count": 7,
   "id": "b0f0d2fd",
   "metadata": {
    "execution": {
     "iopub.execute_input": "2024-08-03T19:25:46.507292Z",
     "iopub.status.busy": "2024-08-03T19:25:46.506674Z",
     "iopub.status.idle": "2024-08-03T19:25:46.510975Z",
     "shell.execute_reply": "2024-08-03T19:25:46.510079Z"
    },
    "papermill": {
     "duration": 0.080886,
     "end_time": "2024-08-03T19:25:46.513006",
     "exception": false,
     "start_time": "2024-08-03T19:25:46.432120",
     "status": "completed"
    },
    "tags": []
   },
   "outputs": [],
   "source": [
    "train_ds, test_ds = ds['train'], ds['test']"
   ]
  },
  {
   "cell_type": "code",
   "execution_count": 8,
   "id": "7aa31fc9",
   "metadata": {
    "execution": {
     "iopub.execute_input": "2024-08-03T19:25:46.664302Z",
     "iopub.status.busy": "2024-08-03T19:25:46.663617Z",
     "iopub.status.idle": "2024-08-03T19:28:58.892307Z",
     "shell.execute_reply": "2024-08-03T19:28:58.891444Z"
    },
    "papermill": {
     "duration": 192.307636,
     "end_time": "2024-08-03T19:28:58.895157",
     "exception": false,
     "start_time": "2024-08-03T19:25:46.587521",
     "status": "completed"
    },
    "tags": []
   },
   "outputs": [],
   "source": [
    "VOCAB_SIZE = 1000\n",
    "encoder = layers.TextVectorization(max_tokens=VOCAB_SIZE)\n",
    "encoder.adapt(train_ds.map(lambda text, label : text))"
   ]
  },
  {
   "cell_type": "code",
   "execution_count": 9,
   "id": "db79c6fb",
   "metadata": {
    "execution": {
     "iopub.execute_input": "2024-08-03T19:28:59.047399Z",
     "iopub.status.busy": "2024-08-03T19:28:59.047073Z",
     "iopub.status.idle": "2024-08-03T19:28:59.058221Z",
     "shell.execute_reply": "2024-08-03T19:28:59.057302Z"
    },
    "papermill": {
     "duration": 0.089521,
     "end_time": "2024-08-03T19:28:59.060316",
     "exception": false,
     "start_time": "2024-08-03T19:28:58.970795",
     "status": "completed"
    },
    "tags": []
   },
   "outputs": [],
   "source": [
    "num_tokens = len(encoder.get_vocabulary()) + 2\n",
    "embedding_dim = 100"
   ]
  },
  {
   "cell_type": "code",
   "execution_count": 10,
   "id": "655f966f",
   "metadata": {
    "execution": {
     "iopub.execute_input": "2024-08-03T19:28:59.212821Z",
     "iopub.status.busy": "2024-08-03T19:28:59.212229Z",
     "iopub.status.idle": "2024-08-03T19:28:59.226589Z",
     "shell.execute_reply": "2024-08-03T19:28:59.225720Z"
    },
    "papermill": {
     "duration": 0.091916,
     "end_time": "2024-08-03T19:28:59.228604",
     "exception": false,
     "start_time": "2024-08-03T19:28:59.136688",
     "status": "completed"
    },
    "tags": []
   },
   "outputs": [],
   "source": [
    "word_index = dict(zip(encoder.get_vocabulary(), range(len(encoder.get_vocabulary()))))"
   ]
  },
  {
   "cell_type": "code",
   "execution_count": 11,
   "id": "9e943b95",
   "metadata": {
    "execution": {
     "iopub.execute_input": "2024-08-03T19:28:59.378165Z",
     "iopub.status.busy": "2024-08-03T19:28:59.377870Z",
     "iopub.status.idle": "2024-08-03T19:28:59.387383Z",
     "shell.execute_reply": "2024-08-03T19:28:59.386350Z"
    },
    "papermill": {
     "duration": 0.087039,
     "end_time": "2024-08-03T19:28:59.389429",
     "exception": false,
     "start_time": "2024-08-03T19:28:59.302390",
     "status": "completed"
    },
    "tags": []
   },
   "outputs": [
    {
     "name": "stdout",
     "output_type": "stream",
     "text": [
      "Converted 993 words (7 misses)\n"
     ]
    }
   ],
   "source": [
    "hits = 0\n",
    "misses = 0\n",
    "\n",
    "# Prepare embedding matrix\n",
    "embedding_matrix = np.zeros((num_tokens, embedding_dim))\n",
    "for word, i in word_index.items():\n",
    "    embedding_vector = embeddings_index.get(word)\n",
    "    if embedding_vector is not None:\n",
    "        # Words not found in embedding index will be all-zeros.\n",
    "        # This includes the representation for \"padding\" and \"OOV\"\n",
    "        embedding_matrix[i] = embedding_vector\n",
    "        hits += 1\n",
    "    else:\n",
    "        misses += 1\n",
    "print(\"Converted %d words (%d misses)\" % (hits, misses))"
   ]
  },
  {
   "cell_type": "code",
   "execution_count": 12,
   "id": "22c9afb9",
   "metadata": {
    "execution": {
     "iopub.execute_input": "2024-08-03T19:28:59.538172Z",
     "iopub.status.busy": "2024-08-03T19:28:59.537852Z",
     "iopub.status.idle": "2024-08-03T19:28:59.574695Z",
     "shell.execute_reply": "2024-08-03T19:28:59.573721Z"
    },
    "papermill": {
     "duration": 0.113967,
     "end_time": "2024-08-03T19:28:59.576781",
     "exception": false,
     "start_time": "2024-08-03T19:28:59.462814",
     "status": "completed"
    },
    "tags": []
   },
   "outputs": [],
   "source": [
    "embed = layers.Embedding(\n",
    "    num_tokens,\n",
    "    embedding_dim,\n",
    "    mask_zero=True,\n",
    "    trainable=False,\n",
    ")\n",
    "embed.build((1,))\n",
    "embed.set_weights([embedding_matrix])"
   ]
  },
  {
   "cell_type": "code",
   "execution_count": 13,
   "id": "6ca8c0e9",
   "metadata": {
    "execution": {
     "iopub.execute_input": "2024-08-03T19:28:59.728098Z",
     "iopub.status.busy": "2024-08-03T19:28:59.727710Z",
     "iopub.status.idle": "2024-08-03T19:28:59.742306Z",
     "shell.execute_reply": "2024-08-03T19:28:59.741382Z"
    },
    "papermill": {
     "duration": 0.092195,
     "end_time": "2024-08-03T19:28:59.744504",
     "exception": false,
     "start_time": "2024-08-03T19:28:59.652309",
     "status": "completed"
    },
    "tags": []
   },
   "outputs": [],
   "source": [
    "train_ds = train_ds.shuffle(BUFFER_SIZE).batch(BATCH_SIZE).prefetch(tf.data.AUTOTUNE)\n",
    "test_ds = test_ds.batch(BATCH_SIZE).prefetch(tf.data.AUTOTUNE)"
   ]
  },
  {
   "cell_type": "code",
   "execution_count": 14,
   "id": "767f1803",
   "metadata": {
    "execution": {
     "iopub.execute_input": "2024-08-03T19:28:59.894412Z",
     "iopub.status.busy": "2024-08-03T19:28:59.893474Z",
     "iopub.status.idle": "2024-08-03T19:28:59.932171Z",
     "shell.execute_reply": "2024-08-03T19:28:59.931280Z"
    },
    "papermill": {
     "duration": 0.115572,
     "end_time": "2024-08-03T19:28:59.934106",
     "exception": false,
     "start_time": "2024-08-03T19:28:59.818534",
     "status": "completed"
    },
    "tags": []
   },
   "outputs": [
    {
     "data": {
      "text/html": [
       "<pre style=\"white-space:pre;overflow-x:auto;line-height:normal;font-family:Menlo,'DejaVu Sans Mono',consolas,'Courier New',monospace\"><span style=\"font-weight: bold\">Model: \"sequential\"</span>\n",
       "</pre>\n"
      ],
      "text/plain": [
       "\u001b[1mModel: \"sequential\"\u001b[0m\n"
      ]
     },
     "metadata": {},
     "output_type": "display_data"
    },
    {
     "data": {
      "text/html": [
       "<pre style=\"white-space:pre;overflow-x:auto;line-height:normal;font-family:Menlo,'DejaVu Sans Mono',consolas,'Courier New',monospace\">┏━━━━━━━━━━━━━━━━━━━━━━━━━━━━━━━━━┳━━━━━━━━━━━━━━━━━━━━━━━━┳━━━━━━━━━━━━━━━┓\n",
       "┃<span style=\"font-weight: bold\"> Layer (type)                    </span>┃<span style=\"font-weight: bold\"> Output Shape           </span>┃<span style=\"font-weight: bold\">       Param # </span>┃\n",
       "┡━━━━━━━━━━━━━━━━━━━━━━━━━━━━━━━━━╇━━━━━━━━━━━━━━━━━━━━━━━━╇━━━━━━━━━━━━━━━┩\n",
       "│ bidirectional (<span style=\"color: #0087ff; text-decoration-color: #0087ff\">Bidirectional</span>)   │ ?                      │   <span style=\"color: #00af00; text-decoration-color: #00af00\">0</span> (unbuilt) │\n",
       "├─────────────────────────────────┼────────────────────────┼───────────────┤\n",
       "│ dense (<span style=\"color: #0087ff; text-decoration-color: #0087ff\">Dense</span>)                   │ ?                      │   <span style=\"color: #00af00; text-decoration-color: #00af00\">0</span> (unbuilt) │\n",
       "├─────────────────────────────────┼────────────────────────┼───────────────┤\n",
       "│ dense_1 (<span style=\"color: #0087ff; text-decoration-color: #0087ff\">Dense</span>)                 │ ?                      │   <span style=\"color: #00af00; text-decoration-color: #00af00\">0</span> (unbuilt) │\n",
       "└─────────────────────────────────┴────────────────────────┴───────────────┘\n",
       "</pre>\n"
      ],
      "text/plain": [
       "┏━━━━━━━━━━━━━━━━━━━━━━━━━━━━━━━━━┳━━━━━━━━━━━━━━━━━━━━━━━━┳━━━━━━━━━━━━━━━┓\n",
       "┃\u001b[1m \u001b[0m\u001b[1mLayer (type)                   \u001b[0m\u001b[1m \u001b[0m┃\u001b[1m \u001b[0m\u001b[1mOutput Shape          \u001b[0m\u001b[1m \u001b[0m┃\u001b[1m \u001b[0m\u001b[1m      Param #\u001b[0m\u001b[1m \u001b[0m┃\n",
       "┡━━━━━━━━━━━━━━━━━━━━━━━━━━━━━━━━━╇━━━━━━━━━━━━━━━━━━━━━━━━╇━━━━━━━━━━━━━━━┩\n",
       "│ bidirectional (\u001b[38;5;33mBidirectional\u001b[0m)   │ ?                      │   \u001b[38;5;34m0\u001b[0m (unbuilt) │\n",
       "├─────────────────────────────────┼────────────────────────┼───────────────┤\n",
       "│ dense (\u001b[38;5;33mDense\u001b[0m)                   │ ?                      │   \u001b[38;5;34m0\u001b[0m (unbuilt) │\n",
       "├─────────────────────────────────┼────────────────────────┼───────────────┤\n",
       "│ dense_1 (\u001b[38;5;33mDense\u001b[0m)                 │ ?                      │   \u001b[38;5;34m0\u001b[0m (unbuilt) │\n",
       "└─────────────────────────────────┴────────────────────────┴───────────────┘\n"
      ]
     },
     "metadata": {},
     "output_type": "display_data"
    },
    {
     "data": {
      "text/html": [
       "<pre style=\"white-space:pre;overflow-x:auto;line-height:normal;font-family:Menlo,'DejaVu Sans Mono',consolas,'Courier New',monospace\"><span style=\"font-weight: bold\"> Total params: </span><span style=\"color: #00af00; text-decoration-color: #00af00\">0</span> (0.00 B)\n",
       "</pre>\n"
      ],
      "text/plain": [
       "\u001b[1m Total params: \u001b[0m\u001b[38;5;34m0\u001b[0m (0.00 B)\n"
      ]
     },
     "metadata": {},
     "output_type": "display_data"
    },
    {
     "data": {
      "text/html": [
       "<pre style=\"white-space:pre;overflow-x:auto;line-height:normal;font-family:Menlo,'DejaVu Sans Mono',consolas,'Courier New',monospace\"><span style=\"font-weight: bold\"> Trainable params: </span><span style=\"color: #00af00; text-decoration-color: #00af00\">0</span> (0.00 B)\n",
       "</pre>\n"
      ],
      "text/plain": [
       "\u001b[1m Trainable params: \u001b[0m\u001b[38;5;34m0\u001b[0m (0.00 B)\n"
      ]
     },
     "metadata": {},
     "output_type": "display_data"
    },
    {
     "data": {
      "text/html": [
       "<pre style=\"white-space:pre;overflow-x:auto;line-height:normal;font-family:Menlo,'DejaVu Sans Mono',consolas,'Courier New',monospace\"><span style=\"font-weight: bold\"> Non-trainable params: </span><span style=\"color: #00af00; text-decoration-color: #00af00\">0</span> (0.00 B)\n",
       "</pre>\n"
      ],
      "text/plain": [
       "\u001b[1m Non-trainable params: \u001b[0m\u001b[38;5;34m0\u001b[0m (0.00 B)\n"
      ]
     },
     "metadata": {},
     "output_type": "display_data"
    }
   ],
   "source": [
    "model = models.Sequential([\n",
    "    layers.Bidirectional(tf.keras.layers.LSTM(64)),\n",
    "    layers.Dense(64, activation='relu'),\n",
    "    layers.Dense(1, activation='sigmoid')\n",
    "])\n",
    "model.summary()"
   ]
  },
  {
   "cell_type": "code",
   "execution_count": 15,
   "id": "0ad4d07f",
   "metadata": {
    "execution": {
     "iopub.execute_input": "2024-08-03T19:29:00.086994Z",
     "iopub.status.busy": "2024-08-03T19:29:00.086441Z",
     "iopub.status.idle": "2024-08-03T19:29:00.091624Z",
     "shell.execute_reply": "2024-08-03T19:29:00.090791Z"
    },
    "papermill": {
     "duration": 0.082667,
     "end_time": "2024-08-03T19:29:00.093554",
     "exception": false,
     "start_time": "2024-08-03T19:29:00.010887",
     "status": "completed"
    },
    "tags": []
   },
   "outputs": [],
   "source": [
    "def plot_hist(history):\n",
    "    plt.plot(history.history['loss'], label='loss')\n",
    "    plt.plot(history.history['accuracy'], label='accuracy')\n",
    "    plt.xlabel('Iterations')\n",
    "    plt.title('Baseline Model')\n",
    "    plt.legend()\n",
    "    plt.show()"
   ]
  },
  {
   "cell_type": "code",
   "execution_count": 16,
   "id": "f5eeb491",
   "metadata": {
    "execution": {
     "iopub.execute_input": "2024-08-03T19:29:00.263400Z",
     "iopub.status.busy": "2024-08-03T19:29:00.262601Z",
     "iopub.status.idle": "2024-08-03T19:29:00.267556Z",
     "shell.execute_reply": "2024-08-03T19:29:00.266622Z"
    },
    "papermill": {
     "duration": 0.082877,
     "end_time": "2024-08-03T19:29:00.269579",
     "exception": false,
     "start_time": "2024-08-03T19:29:00.186702",
     "status": "completed"
    },
    "tags": []
   },
   "outputs": [],
   "source": [
    "def interpolate_texts(baseline, vector, m_steps, alphas=0.01):\n",
    "    delta = vector - baseline\n",
    "    texts = baseline + alphas * delta\n",
    "    return texts"
   ]
  },
  {
   "cell_type": "code",
   "execution_count": 17,
   "id": "d1e487f8",
   "metadata": {
    "execution": {
     "iopub.execute_input": "2024-08-03T19:29:00.419432Z",
     "iopub.status.busy": "2024-08-03T19:29:00.418676Z",
     "iopub.status.idle": "2024-08-03T19:29:00.423729Z",
     "shell.execute_reply": "2024-08-03T19:29:00.422845Z"
    },
    "papermill": {
     "duration": 0.082553,
     "end_time": "2024-08-03T19:29:00.425776",
     "exception": false,
     "start_time": "2024-08-03T19:29:00.343223",
     "status": "completed"
    },
    "tags": []
   },
   "outputs": [],
   "source": [
    "def compute_gradients(t, model):\n",
    "    with tf.GradientTape() as tape:\n",
    "        tape.watch(t)\n",
    "        probs = model(t)\n",
    "    grads = tape.gradient(probs, t)\n",
    "    return grads"
   ]
  },
  {
   "cell_type": "code",
   "execution_count": 18,
   "id": "c5da85f1",
   "metadata": {
    "execution": {
     "iopub.execute_input": "2024-08-03T19:29:00.577590Z",
     "iopub.status.busy": "2024-08-03T19:29:00.577253Z",
     "iopub.status.idle": "2024-08-03T19:29:00.583040Z",
     "shell.execute_reply": "2024-08-03T19:29:00.582218Z"
    },
    "papermill": {
     "duration": 0.083786,
     "end_time": "2024-08-03T19:29:00.585088",
     "exception": false,
     "start_time": "2024-08-03T19:29:00.501302",
     "status": "completed"
    },
    "tags": []
   },
   "outputs": [],
   "source": [
    "def get_igs(vec_embed, model, n_steps=20):\n",
    "    baseline_embed = tf.zeros(shape=tf.shape(vec_embed))\n",
    "    interpolated_texts = interpolate_texts(baseline_embed, vec_embed, n_steps)\n",
    "    path_gradients = compute_gradients(interpolated_texts, model)\n",
    "\n",
    "    all_grads = tf.reduce_sum(path_gradients, axis=0) / n_steps\n",
    "    x_grads = tf.math.multiply(all_grads, vec_embed)\n",
    "    ig_embed = vec_embed + x_grads\n",
    "    return ig_embed"
   ]
  },
  {
   "cell_type": "code",
   "execution_count": 19,
   "id": "c195b9f8",
   "metadata": {
    "execution": {
     "iopub.execute_input": "2024-08-03T19:29:00.738118Z",
     "iopub.status.busy": "2024-08-03T19:29:00.737721Z",
     "iopub.status.idle": "2024-08-03T19:29:00.742208Z",
     "shell.execute_reply": "2024-08-03T19:29:00.741335Z"
    },
    "papermill": {
     "duration": 0.082601,
     "end_time": "2024-08-03T19:29:00.744187",
     "exception": false,
     "start_time": "2024-08-03T19:29:00.661586",
     "status": "completed"
    },
    "tags": []
   },
   "outputs": [],
   "source": [
    "def get_fgsm(vec_embed, model, epsilon=0.01):\n",
    "    grads = compute_gradients(vec_embed, model)\n",
    "    vec_embed_perturbed = vec_embed + (epsilon * grads)\n",
    "    return vec_embed"
   ]
  },
  {
   "cell_type": "code",
   "execution_count": 20,
   "id": "8bbac4c8",
   "metadata": {
    "execution": {
     "iopub.execute_input": "2024-08-03T19:29:00.896207Z",
     "iopub.status.busy": "2024-08-03T19:29:00.895474Z",
     "iopub.status.idle": "2024-08-03T19:29:00.901503Z",
     "shell.execute_reply": "2024-08-03T19:29:00.900651Z"
    },
    "papermill": {
     "duration": 0.084545,
     "end_time": "2024-08-03T19:29:00.903440",
     "exception": false,
     "start_time": "2024-08-03T19:29:00.818895",
     "status": "completed"
    },
    "tags": []
   },
   "outputs": [],
   "source": [
    "def kpgd_perturbations(vec_embed, model, n_steps=20, alpha=0.01, epsilon=0.1):\n",
    "    perturbation = tf.zeros_like(vec_embed)\n",
    "    \n",
    "    for _ in range(n_steps):\n",
    "        with tf.GradientTape() as tape:\n",
    "            tape.watch(vec_embed)\n",
    "            probs = model(vec_embed + perturbation)\n",
    "        grads = tape.gradient(probs, vec_embed)\n",
    "        \n",
    "        perturbation = tf.clip_by_value(perturbation + alpha * grads, -epsilon, epsilon)\n",
    "    \n",
    "    return vec_embed + perturbation"
   ]
  },
  {
   "cell_type": "code",
   "execution_count": 21,
   "id": "336bae86",
   "metadata": {
    "execution": {
     "iopub.execute_input": "2024-08-03T19:29:01.054485Z",
     "iopub.status.busy": "2024-08-03T19:29:01.053827Z",
     "iopub.status.idle": "2024-08-03T19:29:01.058544Z",
     "shell.execute_reply": "2024-08-03T19:29:01.057912Z"
    },
    "papermill": {
     "duration": 0.081027,
     "end_time": "2024-08-03T19:29:01.060438",
     "exception": false,
     "start_time": "2024-08-03T19:29:00.979411",
     "status": "completed"
    },
    "tags": []
   },
   "outputs": [],
   "source": [
    "import keras.backend as K"
   ]
  },
  {
   "cell_type": "code",
   "execution_count": 22,
   "id": "89144cd0",
   "metadata": {
    "execution": {
     "iopub.execute_input": "2024-08-03T19:29:01.211176Z",
     "iopub.status.busy": "2024-08-03T19:29:01.210866Z",
     "iopub.status.idle": "2024-08-03T19:29:01.218968Z",
     "shell.execute_reply": "2024-08-03T19:29:01.218139Z"
    },
    "papermill": {
     "duration": 0.085912,
     "end_time": "2024-08-03T19:29:01.220940",
     "exception": false,
     "start_time": "2024-08-03T19:29:01.135028",
     "status": "completed"
    },
    "tags": []
   },
   "outputs": [],
   "source": [
    "def train_model(model, encoder, embed, train_ds, use_ig=False, use_fgsm=False, use_kpgd=False, epochs=10, data_size=10):\n",
    "    K.clear_session()\n",
    "    model.compile(optimizer='adam', \n",
    "                  loss='binary_crossentropy', \n",
    "                  metrics=['accuracy', 'precision'])\n",
    "    config = []\n",
    "    \n",
    "    for epoch in range(epochs):\n",
    "        print(f'epoch:{epoch}')\n",
    "        for text, label in train_ds.take(data_size):\n",
    "            label = tf.expand_dims(label, axis=-1)\n",
    "            vec = encoder(text)\n",
    "            vec_embed = embed(vec)\n",
    "            if use_ig:\n",
    "                vec_embed = get_igs(vec_embed, model)\n",
    "            if use_fgsm:\n",
    "                vec_embed = get_fgsm(vec_embed, model)\n",
    "            if use_kpgd:\n",
    "                vec_embed = kpgd_perturbations(vec_embed, model)\n",
    "            config.append(model.train_on_batch(vec_embed, label, return_dict=True))\n",
    "    return (config, model)"
   ]
  },
  {
   "cell_type": "code",
   "execution_count": 23,
   "id": "329bdab9",
   "metadata": {
    "execution": {
     "iopub.execute_input": "2024-08-03T19:29:01.370072Z",
     "iopub.status.busy": "2024-08-03T19:29:01.369770Z",
     "iopub.status.idle": "2024-08-03T19:29:50.529000Z",
     "shell.execute_reply": "2024-08-03T19:29:50.527765Z"
    },
    "papermill": {
     "duration": 49.236538,
     "end_time": "2024-08-03T19:29:50.531088",
     "exception": false,
     "start_time": "2024-08-03T19:29:01.294550",
     "status": "completed"
    },
    "tags": []
   },
   "outputs": [
    {
     "name": "stdout",
     "output_type": "stream",
     "text": [
      "epoch:0\n",
      "epoch:1\n",
      "epoch:2\n",
      "epoch:3\n",
      "epoch:4\n",
      "epoch:5\n",
      "epoch:6\n",
      "epoch:7\n",
      "epoch:8\n",
      "epoch:9\n",
      "elapsed_time: 49.153690814971924\n"
     ]
    }
   ],
   "source": [
    "start_time = time.time()\n",
    "config, hist = train_model(model, encoder, embed, train_ds, use_ig=False, use_fgsm=False, use_kpgd=False)\n",
    "end_time = time.time()\n",
    "elapsed = end_time - start_time\n",
    "print('elapsed_time:',elapsed)"
   ]
  },
  {
   "cell_type": "code",
   "execution_count": 24,
   "id": "528b62fd",
   "metadata": {
    "execution": {
     "iopub.execute_input": "2024-08-03T19:29:50.683940Z",
     "iopub.status.busy": "2024-08-03T19:29:50.683599Z",
     "iopub.status.idle": "2024-08-03T19:30:42.214404Z",
     "shell.execute_reply": "2024-08-03T19:30:42.213176Z"
    },
    "papermill": {
     "duration": 51.608489,
     "end_time": "2024-08-03T19:30:42.216480",
     "exception": false,
     "start_time": "2024-08-03T19:29:50.607991",
     "status": "completed"
    },
    "tags": []
   },
   "outputs": [
    {
     "name": "stdout",
     "output_type": "stream",
     "text": [
      "epoch:0\n",
      "epoch:1\n",
      "epoch:2\n",
      "epoch:3\n",
      "epoch:4\n",
      "epoch:5\n",
      "epoch:6\n",
      "epoch:7\n",
      "epoch:8\n",
      "epoch:9\n",
      "elapsed_time: 51.52509164810181\n"
     ]
    }
   ],
   "source": [
    "start_time = time.time()\n",
    "config_ig, hist_ig = train_model(model, encoder, embed, train_ds, use_ig=True, use_fgsm=False, use_kpgd=False)\n",
    "end_time = time.time()\n",
    "elapsed_ig = end_time - start_time\n",
    "print('elapsed_time:',elapsed_ig)"
   ]
  },
  {
   "cell_type": "code",
   "execution_count": 25,
   "id": "6a7cb26d",
   "metadata": {
    "execution": {
     "iopub.execute_input": "2024-08-03T19:30:42.373050Z",
     "iopub.status.busy": "2024-08-03T19:30:42.372646Z",
     "iopub.status.idle": "2024-08-03T19:31:37.437850Z",
     "shell.execute_reply": "2024-08-03T19:31:37.436697Z"
    },
    "papermill": {
     "duration": 55.146125,
     "end_time": "2024-08-03T19:31:37.440019",
     "exception": false,
     "start_time": "2024-08-03T19:30:42.293894",
     "status": "completed"
    },
    "tags": []
   },
   "outputs": [
    {
     "name": "stdout",
     "output_type": "stream",
     "text": [
      "epoch:0\n"
     ]
    },
    {
     "name": "stderr",
     "output_type": "stream",
     "text": [
      "/opt/conda/lib/python3.10/site-packages/keras/src/layers/layer.py:877: UserWarning: Layer 'sequential' (of type Sequential) was passed an input with a mask attached to it. However, this layer does not support masking and will therefore destroy the mask information. Downstream layers will not see the mask.\n",
      "  warnings.warn(\n"
     ]
    },
    {
     "name": "stdout",
     "output_type": "stream",
     "text": [
      "epoch:1\n",
      "epoch:2\n",
      "epoch:3\n",
      "epoch:4\n",
      "epoch:5\n",
      "epoch:6\n",
      "epoch:7\n",
      "epoch:8\n",
      "epoch:9\n",
      "elapsed_time: 55.05913281440735\n"
     ]
    }
   ],
   "source": [
    "start_time = time.time()\n",
    "config_fgsm, hist_fgsm = train_model(model, encoder, embed, train_ds, use_ig=False, use_fgsm=True, use_kpgd=False)\n",
    "end_time = time.time()\n",
    "elapsed_fgsm = end_time - start_time\n",
    "print('elapsed_time:',elapsed_fgsm)"
   ]
  },
  {
   "cell_type": "code",
   "execution_count": 26,
   "id": "ff41740a",
   "metadata": {
    "execution": {
     "iopub.execute_input": "2024-08-03T19:31:37.596848Z",
     "iopub.status.busy": "2024-08-03T19:31:37.596490Z",
     "iopub.status.idle": "2024-08-03T19:34:35.033576Z",
     "shell.execute_reply": "2024-08-03T19:34:35.032586Z"
    },
    "papermill": {
     "duration": 177.599739,
     "end_time": "2024-08-03T19:34:35.117459",
     "exception": false,
     "start_time": "2024-08-03T19:31:37.517720",
     "status": "completed"
    },
    "tags": []
   },
   "outputs": [
    {
     "name": "stdout",
     "output_type": "stream",
     "text": [
      "epoch:0\n",
      "epoch:1\n",
      "epoch:2\n",
      "epoch:3\n",
      "epoch:4\n",
      "epoch:5\n",
      "epoch:6\n",
      "epoch:7\n",
      "epoch:8\n",
      "epoch:9\n",
      "elapsed_time: 177.43114042282104\n"
     ]
    }
   ],
   "source": [
    "start_time = time.time()\n",
    "config_kpgd, hist_kpgd = train_model(model, encoder, embed, train_ds, use_ig=False, use_fgsm=False, use_kpgd=True)\n",
    "end_time = time.time()\n",
    "elapsed_kpgd = end_time - start_time\n",
    "print('elapsed_time:',elapsed_kpgd)"
   ]
  },
  {
   "cell_type": "code",
   "execution_count": 27,
   "id": "b98f6386",
   "metadata": {
    "execution": {
     "iopub.execute_input": "2024-08-03T19:34:35.275339Z",
     "iopub.status.busy": "2024-08-03T19:34:35.274966Z",
     "iopub.status.idle": "2024-08-03T19:34:35.282371Z",
     "shell.execute_reply": "2024-08-03T19:34:35.281411Z"
    },
    "papermill": {
     "duration": 0.088984,
     "end_time": "2024-08-03T19:34:35.284306",
     "exception": false,
     "start_time": "2024-08-03T19:34:35.195322",
     "status": "completed"
    },
    "tags": []
   },
   "outputs": [],
   "source": [
    "def eval_hits(model, ds, encoder, embed, steps=10):\n",
    "    hits = []\n",
    "    miss = []\n",
    "    for text, label in ds.take(steps):\n",
    "        vec = encoder(text)\n",
    "        vec_embed = embed(vec)\n",
    "\n",
    "        vec_embed_ig = get_igs(vec_embed, hist)\n",
    "        pred_ig = hist.predict(vec_embed_ig, verbose=0)\n",
    "\n",
    "        pred_ig[pred_ig<0.5] = 0\n",
    "        pred_ig[pred_ig>=0.5] = 1\n",
    "        pred_ig = pred_ig.astype('int64')\n",
    "        pred_ig = np.squeeze(pred_ig)\n",
    "\n",
    "        truth_ig = pred_ig == label\n",
    "        hits.append(np.count_nonzero(truth_ig))\n",
    "        miss.append(len(label) - np.count_nonzero(truth_ig))\n",
    "            \n",
    "    return hits, miss"
   ]
  },
  {
   "cell_type": "code",
   "execution_count": 28,
   "id": "7f8f43ab",
   "metadata": {
    "execution": {
     "iopub.execute_input": "2024-08-03T19:34:35.442949Z",
     "iopub.status.busy": "2024-08-03T19:34:35.442232Z",
     "iopub.status.idle": "2024-08-03T19:34:35.448135Z",
     "shell.execute_reply": "2024-08-03T19:34:35.447299Z"
    },
    "papermill": {
     "duration": 0.087779,
     "end_time": "2024-08-03T19:34:35.450093",
     "exception": false,
     "start_time": "2024-08-03T19:34:35.362314",
     "status": "completed"
    },
    "tags": []
   },
   "outputs": [],
   "source": [
    "def plot_hits(hits_baseline, hits_ig, hits_fgsm, hits_kpgd):\n",
    "    plt.plot(hits_baseline, label='Baseline(BiLSTM)')\n",
    "    plt.plot(hits_ig, label='Baseline with IG')\n",
    "    plt.plot(hits_fgsm, label='Baseline with FGSM')\n",
    "    plt.plot(hits_kpgd, label='Baseline with K-PGD')\n",
    "    plt.xlabel('Sample')\n",
    "    plt.ylabel('Number of Hit')\n",
    "    plt.title('Evaluation Hits')\n",
    "    plt.legend()\n",
    "    plt.show()"
   ]
  },
  {
   "cell_type": "code",
   "execution_count": 29,
   "id": "854f6647",
   "metadata": {
    "execution": {
     "iopub.execute_input": "2024-08-03T19:34:35.613427Z",
     "iopub.status.busy": "2024-08-03T19:34:35.612829Z",
     "iopub.status.idle": "2024-08-03T19:34:35.618689Z",
     "shell.execute_reply": "2024-08-03T19:34:35.617816Z"
    },
    "papermill": {
     "duration": 0.089421,
     "end_time": "2024-08-03T19:34:35.620570",
     "exception": false,
     "start_time": "2024-08-03T19:34:35.531149",
     "status": "completed"
    },
    "tags": []
   },
   "outputs": [],
   "source": [
    "def plot_miss(miss_baseline, miss_ig, miss_fgsm, miss_kpgd):\n",
    "    plt.plot(miss_baseline, label='Baseline(BiLSTM)')\n",
    "    plt.plot(miss_ig, label='Baseline with IG')\n",
    "    plt.plot(miss_fgsm, label='Baseline with FGSM')\n",
    "    plt.plot(miss_kpgd, label='Baseline with K-PGD')\n",
    "    plt.title('Evaluation Miss')\n",
    "    plt.xlabel('Sample')\n",
    "    plt.ylabel('Number of Miss')\n",
    "    plt.legend()\n",
    "    plt.show()"
   ]
  },
  {
   "cell_type": "code",
   "execution_count": 30,
   "id": "247c53e4",
   "metadata": {
    "execution": {
     "iopub.execute_input": "2024-08-03T19:34:35.778982Z",
     "iopub.status.busy": "2024-08-03T19:34:35.778677Z",
     "iopub.status.idle": "2024-08-03T19:34:35.786321Z",
     "shell.execute_reply": "2024-08-03T19:34:35.785438Z"
    },
    "papermill": {
     "duration": 0.087908,
     "end_time": "2024-08-03T19:34:35.788199",
     "exception": false,
     "start_time": "2024-08-03T19:34:35.700291",
     "status": "completed"
    },
    "tags": []
   },
   "outputs": [],
   "source": [
    "def plot_loss(config_base, config_ig, config_fgsm, config_kpgd):\n",
    "    loss = []\n",
    "    loss_ig = []\n",
    "    loss_fgsm = []\n",
    "    loss_kpgd= []\n",
    "    \n",
    "    for param in config:\n",
    "        loss.append(param['loss'])\n",
    "        \n",
    "    for param_ig in config_ig:\n",
    "        loss_ig.append(param_ig['loss'])\n",
    "    \n",
    "    for param_fgsm in config_fgsm:\n",
    "        loss_fgsm.append(param_fgsm['loss'])\n",
    "        \n",
    "    for param_kpgd in config_kpgd:\n",
    "        loss_kpgd.append(param_kpgd['loss'])\n",
    "\n",
    "    plt.plot(loss, label='Baseline(BiLSTM)')\n",
    "    plt.plot(loss_ig, label='Baseline with IG')\n",
    "    plt.plot(loss_fgsm, label='Baseline with FGSM')\n",
    "    plt.plot(loss_kpgd, label='Baseline with K-PGD')\n",
    "    plt.xlabel('Number of Epochs')\n",
    "    plt.ylabel('Loss')\n",
    "    plt.title('Loss Over Training Epochs')\n",
    "    plt.legend()\n",
    "    plt.show()"
   ]
  },
  {
   "cell_type": "code",
   "execution_count": 31,
   "id": "b3503dbd",
   "metadata": {
    "execution": {
     "iopub.execute_input": "2024-08-03T19:34:35.945352Z",
     "iopub.status.busy": "2024-08-03T19:34:35.945048Z",
     "iopub.status.idle": "2024-08-03T19:34:35.952670Z",
     "shell.execute_reply": "2024-08-03T19:34:35.951781Z"
    },
    "papermill": {
     "duration": 0.087818,
     "end_time": "2024-08-03T19:34:35.954831",
     "exception": false,
     "start_time": "2024-08-03T19:34:35.867013",
     "status": "completed"
    },
    "tags": []
   },
   "outputs": [],
   "source": [
    "def plot_acc(config_base, config_ig, config_fgsm, config_kpgd):\n",
    "    acc = []\n",
    "    acc_ig = []\n",
    "    acc_fgsm = []\n",
    "    acc_kpgd = []\n",
    "    \n",
    "    for param in config:\n",
    "        acc.append(param['accuracy'])\n",
    "        \n",
    "    for param_ig in config_ig:\n",
    "        acc_ig.append(param_ig['accuracy'])\n",
    "    \n",
    "    for param_fgsm in config_fgsm:\n",
    "        acc_fgsm.append(param_fgsm['accuracy'])\n",
    "        \n",
    "    for param_kpgd in config_kpgd:\n",
    "        acc_kpgd.append(param_kpgd['accuracy'])\n",
    "        \n",
    "    plt.plot(acc, label='Baseline(BiLSTM)')\n",
    "    plt.plot(acc_ig, label='Baseline with IG')\n",
    "    plt.plot(acc_fgsm, label='Baseline with FGSM')\n",
    "    plt.plot(acc_kpgd, label='Baseline with K-PGD')\n",
    "    plt.xlabel('Number of Epochs')\n",
    "    plt.ylabel('Accuracy score')\n",
    "    plt.title('Accuracy Over Training Epochs')\n",
    "    plt.legend()\n",
    "    plt.show()"
   ]
  },
  {
   "cell_type": "code",
   "execution_count": 32,
   "id": "e1941183",
   "metadata": {
    "execution": {
     "iopub.execute_input": "2024-08-03T19:34:36.113190Z",
     "iopub.status.busy": "2024-08-03T19:34:36.112557Z",
     "iopub.status.idle": "2024-08-03T19:34:36.120589Z",
     "shell.execute_reply": "2024-08-03T19:34:36.119733Z"
    },
    "papermill": {
     "duration": 0.089491,
     "end_time": "2024-08-03T19:34:36.122497",
     "exception": false,
     "start_time": "2024-08-03T19:34:36.033006",
     "status": "completed"
    },
    "tags": []
   },
   "outputs": [],
   "source": [
    "def plot_precision(config_base, config_ig, config_fgsm, config_kpgd):\n",
    "    acc = []\n",
    "    acc_ig = []\n",
    "    acc_fgsm = []\n",
    "    acc_kpgd = []\n",
    "    \n",
    "    for param in config:\n",
    "        acc.append(param['precision'])\n",
    "        \n",
    "    for param_ig in config_ig:\n",
    "        acc_ig.append(param_ig['precision'])\n",
    "    \n",
    "    for param_fgsm in config_fgsm:\n",
    "        acc_fgsm.append(param_fgsm['precision'])\n",
    "        \n",
    "    for param_kpgd in config_kpgd:\n",
    "        acc_kpgd.append(param_kpgd['precision'])\n",
    "        \n",
    "    plt.plot(acc, label='Baseline(BiLSTM)')\n",
    "    plt.plot(acc_ig, label='Baseline with IG')\n",
    "    plt.plot(acc_fgsm, label='Baseline with FGSM')\n",
    "    plt.plot(acc_kpgd, label='Baseline with K-PGD')\n",
    "    plt.xlabel('Number of Epochs')\n",
    "    plt.ylabel('Precision score')\n",
    "    plt.title('Precision Over Training Epochs')\n",
    "    plt.legend()\n",
    "    plt.show()"
   ]
  },
  {
   "cell_type": "code",
   "execution_count": 33,
   "id": "eece4c9d",
   "metadata": {
    "execution": {
     "iopub.execute_input": "2024-08-03T19:34:36.279804Z",
     "iopub.status.busy": "2024-08-03T19:34:36.279025Z",
     "iopub.status.idle": "2024-08-03T19:34:43.537972Z",
     "shell.execute_reply": "2024-08-03T19:34:43.537074Z"
    },
    "papermill": {
     "duration": 7.340133,
     "end_time": "2024-08-03T19:34:43.540397",
     "exception": false,
     "start_time": "2024-08-03T19:34:36.200264",
     "status": "completed"
    },
    "tags": []
   },
   "outputs": [],
   "source": [
    "hits_base, miss_base = eval_hits(hist, train_ds, encoder, embed)\n",
    "hits_ig, miss_ig = eval_hits(hist_ig, train_ds, encoder, embed)\n",
    "hits_fgsm, miss_fgsm = eval_hits(hist_fgsm, train_ds, encoder, embed)\n",
    "hits_kpgd, miss_kpgd = eval_hits(hist_kpgd, train_ds, encoder, embed)"
   ]
  },
  {
   "cell_type": "code",
   "execution_count": 34,
   "id": "dc1ee84c",
   "metadata": {
    "execution": {
     "iopub.execute_input": "2024-08-03T19:34:43.699497Z",
     "iopub.status.busy": "2024-08-03T19:34:43.698678Z",
     "iopub.status.idle": "2024-08-03T19:34:43.704546Z",
     "shell.execute_reply": "2024-08-03T19:34:43.703776Z"
    },
    "papermill": {
     "duration": 0.08741,
     "end_time": "2024-08-03T19:34:43.706535",
     "exception": false,
     "start_time": "2024-08-03T19:34:43.619125",
     "status": "completed"
    },
    "tags": []
   },
   "outputs": [],
   "source": [
    "def plot_elapsed_time(elapsed_baseline, elapsed_ig, elapsed_fgsm, elapsed_kpgd):\n",
    "    algorithms = ['Baseline(BiLSTM)','IG', 'FGSM', 'K-PGD']\n",
    "    elapsed_times = [elapsed_baseline, elapsed_ig, elapsed_fgsm, elapsed_kpgd]\n",
    "\n",
    "    plt.bar(algorithms, elapsed_times)\n",
    "    plt.xlabel('Attack Algorithms')\n",
    "    plt.ylabel('Elapsed Time (seconds)')\n",
    "    plt.title('Elapsed Time for Different Attack Algorithms')\n",
    "    plt.show()"
   ]
  },
  {
   "cell_type": "code",
   "execution_count": 35,
   "id": "d596814f",
   "metadata": {
    "execution": {
     "iopub.execute_input": "2024-08-03T19:34:43.866120Z",
     "iopub.status.busy": "2024-08-03T19:34:43.865700Z",
     "iopub.status.idle": "2024-08-03T19:34:44.223064Z",
     "shell.execute_reply": "2024-08-03T19:34:44.222186Z"
    },
    "papermill": {
     "duration": 0.441171,
     "end_time": "2024-08-03T19:34:44.225518",
     "exception": false,
     "start_time": "2024-08-03T19:34:43.784347",
     "status": "completed"
    },
    "tags": []
   },
   "outputs": [
    {
     "data": {
      "image/png": "[encoded data removed]",
      "text/plain": [
       "<Figure size 640x480 with 1 Axes>"
      ]
     },
     "metadata": {},
     "output_type": "display_data"
    }
   ],
   "source": [
    "plot_hits(hits_base, hits_ig, hits_fgsm, hits_kpgd)"
   ]
  },
  {
   "cell_type": "code",
   "execution_count": 36,
   "id": "7f2d2cc7",
   "metadata": {
    "execution": {
     "iopub.execute_input": "2024-08-03T19:34:44.387291Z",
     "iopub.status.busy": "2024-08-03T19:34:44.386937Z",
     "iopub.status.idle": "2024-08-03T19:34:44.708283Z",
     "shell.execute_reply": "2024-08-03T19:34:44.707454Z"
    },
    "papermill": {
     "duration": 0.404465,
     "end_time": "2024-08-03T19:34:44.710640",
     "exception": false,
     "start_time": "2024-08-03T19:34:44.306175",
     "status": "completed"
    },
    "tags": []
   },
   "outputs": [
    {
     "data": {
      "image/png": "[encoded data removed]",
      "text/plain": [
       "<Figure size 640x480 with 1 Axes>"
      ]
     },
     "metadata": {},
     "output_type": "display_data"
    }
   ],
   "source": [
    "plot_miss(miss_base, miss_ig, miss_fgsm, miss_kpgd)"
   ]
  },
  {
   "cell_type": "code",
   "execution_count": 37,
   "id": "f050bb38",
   "metadata": {
    "execution": {
     "iopub.execute_input": "2024-08-03T19:34:44.877086Z",
     "iopub.status.busy": "2024-08-03T19:34:44.876346Z",
     "iopub.status.idle": "2024-08-03T19:34:45.225485Z",
     "shell.execute_reply": "2024-08-03T19:34:45.224466Z"
    },
    "papermill": {
     "duration": 0.435094,
     "end_time": "2024-08-03T19:34:45.227503",
     "exception": false,
     "start_time": "2024-08-03T19:34:44.792409",
     "status": "completed"
    },
    "tags": []
   },
   "outputs": [
    {
     "data": {
      "image/png": "[encoded data removed]",
      "text/plain": [
       "<Figure size 640x480 with 1 Axes>"
      ]
     },
     "metadata": {},
     "output_type": "display_data"
    }
   ],
   "source": [
    "plot_loss(config, config_ig, config_fgsm, config_kpgd)"
   ]
  },
  {
   "cell_type": "code",
   "execution_count": 38,
   "id": "0f1cceda",
   "metadata": {
    "execution": {
     "iopub.execute_input": "2024-08-03T19:34:45.392075Z",
     "iopub.status.busy": "2024-08-03T19:34:45.391694Z",
     "iopub.status.idle": "2024-08-03T19:34:45.718297Z",
     "shell.execute_reply": "2024-08-03T19:34:45.717374Z"
    },
    "papermill": {
     "duration": 0.411409,
     "end_time": "2024-08-03T19:34:45.720474",
     "exception": false,
     "start_time": "2024-08-03T19:34:45.309065",
     "status": "completed"
    },
    "tags": []
   },
   "outputs": [
    {
     "data": {
      "image/png": "[encoded data removed]",
      "text/plain": [
       "<Figure size 640x480 with 1 Axes>"
      ]
     },
     "metadata": {},
     "output_type": "display_data"
    }
   ],
   "source": [
    "plot_acc(config, config_ig, config_fgsm, config_kpgd)"
   ]
  },
  {
   "cell_type": "code",
   "execution_count": 39,
   "id": "43278d2c",
   "metadata": {
    "execution": {
     "iopub.execute_input": "2024-08-03T19:34:45.889932Z",
     "iopub.status.busy": "2024-08-03T19:34:45.889239Z",
     "iopub.status.idle": "2024-08-03T19:34:46.209900Z",
     "shell.execute_reply": "2024-08-03T19:34:46.208622Z"
    },
    "papermill": {
     "duration": 0.40946,
     "end_time": "2024-08-03T19:34:46.213228",
     "exception": false,
     "start_time": "2024-08-03T19:34:45.803768",
     "status": "completed"
    },
    "tags": []
   },
   "outputs": [
    {
     "data": {
      "image/png": "[encoded data removed]",
      "text/plain": [
       "<Figure size 640x480 with 1 Axes>"
      ]
     },
     "metadata": {},
     "output_type": "display_data"
    }
   ],
   "source": [
    "plot_precision(config, config_ig, config_fgsm, config_kpgd)"
   ]
  },
  {
   "cell_type": "code",
   "execution_count": 40,
   "id": "02503171",
   "metadata": {
    "execution": {
     "iopub.execute_input": "2024-08-03T19:34:46.448843Z",
     "iopub.status.busy": "2024-08-03T19:34:46.448428Z",
     "iopub.status.idle": "2024-08-03T19:34:46.720351Z",
     "shell.execute_reply": "2024-08-03T19:34:46.719073Z"
    },
    "papermill": {
     "duration": 0.418459,
     "end_time": "2024-08-03T19:34:46.725981",
     "exception": false,
     "start_time": "2024-08-03T19:34:46.307522",
     "status": "completed"
    },
    "tags": []
   },
   "outputs": [
    {
     "data": {
      "image/png": "[encoded data removed]",
      "text/plain": [
       "<Figure size 640x480 with 1 Axes>"
      ]
     },
     "metadata": {},
     "output_type": "display_data"
    }
   ],
   "source": [
    "plot_elapsed_time(elapsed, elapsed_ig, elapsed_fgsm, elapsed_kpgd)"
   ]
  },
  {
   "cell_type": "code",
   "execution_count": null,
   "id": "6eed1a6f",
   "metadata": {
    "papermill": {
     "duration": 0.086444,
     "end_time": "2024-08-03T19:34:46.897061",
     "exception": false,
     "start_time": "2024-08-03T19:34:46.810617",
     "status": "completed"
    },
    "tags": []
   },
   "outputs": [],
   "source": []
  }
 ],
 "metadata": {
  "kaggle": {
   "accelerator": "nvidiaTeslaT4",
   "dataSources": [],
   "dockerImageVersionId": 30716,
   "isGpuEnabled": true,
   "isInternetEnabled": true,
   "language": "python",
   "sourceType": "notebook"
  },
  "kernelspec": {
   "display_name": "Python 3",
   "language": "python",
   "name": "python3"
  },
  "language_info": {
   "codemirror_mode": {
    "name": "ipython",
    "version": 3
   },
   "file_extension": ".py",
   "mimetype": "text/x-python",
   "name": "python",
   "nbconvert_exporter": "python",
   "pygments_lexer": "ipython3",
   "version": "3.10.13"
  },
  "papermill": {
   "default_parameters": {},
   "duration": 807.604786,
   "end_time": "2024-08-03T19:34:50.700148",
   "environment_variables": {},
   "exception": null,
   "input_path": "__notebook__.ipynb",
   "output_path": "__notebook__.ipynb",
   "parameters": {},
   "start_time": "2024-08-03T19:21:23.095362",
   "version": "2.5.0"
  },
  "widgets": {
   "application/vnd.jupyter.widget-state+json": {
    "state": {
     "030bf08832eb417399cb3f0c4df0d240": {
      "model_module": "@jupyter-widgets/base",
      "model_module_version": "1.2.0",
      "model_name": "LayoutModel",
      "state": {
       "_model_module": "@jupyter-widgets/base",
       "_model_module_version": "1.2.0",
       "_model_name": "LayoutModel",
       "_view_count": null,
       "_view_module": "@jupyter-widgets/base",
       "_view_module_version": "1.2.0",
       "_view_name": "LayoutView",
       "align_content": null,
       "align_items": null,
       "align_self": null,
       "border": null,
       "bottom": null,
       "display": null,
       "flex": null,
       "flex_flow": null,
       "grid_area": null,
       "grid_auto_columns": null,
       "grid_auto_flow": null,
       "grid_auto_rows": null,
       "grid_column": null,
       "grid_gap": null,
       "grid_row": null,
       "grid_template_areas": null,
       "grid_template_columns": null,
       "grid_template_rows": null,
       "height": null,
       "justify_content": null,
       "justify_items": null,
       "left": null,
       "margin": null,
       "max_height": null,
       "max_width": null,
       "min_height": null,
       "min_width": null,
       "object_fit": null,
       "object_position": null,
       "order": null,
       "overflow": null,
       "overflow_x": null,
       "overflow_y": null,
       "padding": null,
       "right": null,
       "top": null,
       "visibility": null,
       "width": null
      }
     },
     "084a614c4b5a44188eac64ab19088265": {
      "model_module": "@jupyter-widgets/base",
      "model_module_version": "1.2.0",
      "model_name": "LayoutModel",
      "state": {
       "_model_module": "@jupyter-widgets/base",
       "_model_module_version": "1.2.0",
       "_model_name": "LayoutModel",
       "_view_count": null,
       "_view_module": "@jupyter-widgets/base",
       "_view_module_version": "1.2.0",
       "_view_name": "LayoutView",
       "align_content": null,
       "align_items": null,
       "align_self": null,
       "border": null,
       "bottom": null,
       "display": null,
       "flex": null,
       "flex_flow": null,
       "grid_area": null,
       "grid_auto_columns": null,
       "grid_auto_flow": null,
       "grid_auto_rows": null,
       "grid_column": null,
       "grid_gap": null,
       "grid_row": null,
       "grid_template_areas": null,
       "grid_template_columns": null,
       "grid_template_rows": null,
       "height": null,
       "justify_content": null,
       "justify_items": null,
       "left": null,
       "margin": null,
       "max_height": null,
       "max_width": null,
       "min_height": null,
       "min_width": null,
       "object_fit": null,
       "object_position": null,
       "order": null,
       "overflow": null,
       "overflow_x": null,
       "overflow_y": null,
       "padding": null,
       "right": null,
       "top": null,
       "visibility": "hidden",
       "width": null
      }
     },
     "0f20f7bea0054b68bf0d87cf7e6013ca": {
      "model_module": "@jupyter-widgets/controls",
      "model_module_version": "1.5.0",
      "model_name": "HBoxModel",
      "state": {
       "_dom_classes": [],
       "_model_module": "@jupyter-widgets/controls",
       "_model_module_version": "1.5.0",
       "_model_name": "HBoxModel",
       "_view_count": null,
       "_view_module": "@jupyter-widgets/controls",
       "_view_module_version": "1.5.0",
       "_view_name": "HBoxView",
       "box_style": "",
       "children": [
        "IPY_MODEL_eb0f5521ce5646fa9bca928f1b33b9c6",
        "IPY_MODEL_302e41fbb019443ca90f963ea3657e5e",
        "IPY_MODEL_33dd4f25d9f749f1825d8159aeba1c79"
       ],
       "layout": "IPY_MODEL_7297921246014918be64765d7cf945e0"
      }
     },
     "1124ab1f0c1c467fba2af08561f380b8": {
      "model_module": "@jupyter-widgets/controls",
      "model_module_version": "1.5.0",
      "model_name": "FloatProgressModel",
      "state": {
       "_dom_classes": [],
       "_model_module": "@jupyter-widgets/controls",
       "_model_module_version": "1.5.0",
       "_model_name": "FloatProgressModel",
       "_view_count": null,
       "_view_module": "@jupyter-widgets/controls",
       "_view_module_version": "1.5.0",
       "_view_name": "ProgressView",
       "bar_style": "",
       "description": "",
       "description_tooltip": null,
       "layout": "IPY_MODEL_32605d27ebaf4113a43d3446c4036797",
       "max": 25000.0,
       "min": 0.0,
       "orientation": "horizontal",
       "style": "IPY_MODEL_1ec4a62f92fb43e98ba23e59a38e881c",
       "value": 25000.0
      }
     },
     "113dea0fe29a4b9dbabff1f47723dc2a": {
      "model_module": "@jupyter-widgets/controls",
      "model_module_version": "1.5.0",
      "model_name": "HBoxModel",
      "state": {
       "_dom_classes": [],
       "_model_module": "@jupyter-widgets/controls",
       "_model_module_version": "1.5.0",
       "_model_name": "HBoxModel",
       "_view_count": null,
       "_view_module": "@jupyter-widgets/controls",
       "_view_module_version": "1.5.0",
       "_view_name": "HBoxView",
       "box_style": "",
       "children": [
        "IPY_MODEL_490631034ce743598c79a55ec81126b3",
        "IPY_MODEL_1124ab1f0c1c467fba2af08561f380b8",
        "IPY_MODEL_96c72c10d74e4f3886b5e9d7318a7414"
       ],
       "layout": "IPY_MODEL_f49b3378c56248a9bf90b183cd767cd2"
      }
     },
     "16261300fd1249be8225196482b3683e": {
      "model_module": "@jupyter-widgets/controls",
      "model_module_version": "1.5.0",
      "model_name": "HTMLModel",
      "state": {
       "_dom_classes": [],
       "_model_module": "@jupyter-widgets/controls",
       "_model_module_version": "1.5.0",
       "_model_name": "HTMLModel",
       "_view_count": null,
       "_view_module": "@jupyter-widgets/controls",
       "_view_module_version": "1.5.0",
       "_view_name": "HTMLView",
       "description": "",
       "description_tooltip": null,
       "layout": "IPY_MODEL_a23978501dac474883ccf1d450484b2c",
       "placeholder": "​",
       "style": "IPY_MODEL_d1bf603e88ee4baf95fd278305aa153e",
       "value": " 48499/50000 [00:15&lt;00:00, 4620.98 examples/s]"
      }
     },
     "19cf505546b64510b37faef10e7d06cc": {
      "model_module": "@jupyter-widgets/controls",
      "model_module_version": "1.5.0",
      "model_name": "DescriptionStyleModel",
      "state": {
       "_model_module": "@jupyter-widgets/controls",
       "_model_module_version": "1.5.0",
       "_model_name": "DescriptionStyleModel",
       "_view_count": null,
       "_view_module": "@jupyter-widgets/base",
       "_view_module_version": "1.2.0",
       "_view_name": "StyleView",
       "description_width": ""
      }
     },
     "1e578fb8216243b69e997658c56f55ef": {
      "model_module": "@jupyter-widgets/controls",
      "model_module_version": "1.5.0",
      "model_name": "HTMLModel",
      "state": {
       "_dom_classes": [],
       "_model_module": "@jupyter-widgets/controls",
       "_model_module_version": "1.5.0",
       "_model_name": "HTMLModel",
       "_view_count": null,
       "_view_module": "@jupyter-widgets/controls",
       "_view_module_version": "1.5.0",
       "_view_name": "HTMLView",
       "description": "",
       "description_tooltip": null,
       "layout": "IPY_MODEL_34a403b0536a4358ac6e44c153d18b35",
       "placeholder": "​",
       "style": "IPY_MODEL_e83b8c61677f4c0f99266c262e3ac790",
       "value": "Dl Completed...: 100%"
      }
     },
     "1ec4a62f92fb43e98ba23e59a38e881c": {
      "model_module": "@jupyter-widgets/controls",
      "model_module_version": "1.5.0",
      "model_name": "ProgressStyleModel",
      "state": {
       "_model_module": "@jupyter-widgets/controls",
       "_model_module_version": "1.5.0",
       "_model_name": "ProgressStyleModel",
       "_view_count": null,
       "_view_module": "@jupyter-widgets/base",
       "_view_module_version": "1.2.0",
       "_view_name": "StyleView",
       "bar_color": null,
       "description_width": ""
      }
     },
     "20239c8bf8a74a77b54bf3090ff9ce47": {
      "model_module": "@jupyter-widgets/controls",
      "model_module_version": "1.5.0",
      "model_name": "HTMLModel",
      "state": {
       "_dom_classes": [],
       "_model_module": "@jupyter-widgets/controls",
       "_model_module_version": "1.5.0",
       "_model_name": "HTMLModel",
       "_view_count": null,
       "_view_module": "@jupyter-widgets/controls",
       "_view_module_version": "1.5.0",
       "_view_name": "HTMLView",
       "description": "",
       "description_tooltip": null,
       "layout": "IPY_MODEL_b0e3b11db1a348baa45de771e709c478",
       "placeholder": "​",
       "style": "IPY_MODEL_b5a809f55930434ca2ec9115a99fb4d2",
       "value": "Shuffling /root/tensorflow_datasets/imdb_reviews/plain_text/1.0.0.incomplete2AYCP3/imdb_reviews-test.tfrecord*...:  57%"
      }
     },
     "20eb2897b82c49f9be81da4ea6d43798": {
      "model_module": "@jupyter-widgets/controls",
      "model_module_version": "1.5.0",
      "model_name": "DescriptionStyleModel",
      "state": {
       "_model_module": "@jupyter-widgets/controls",
       "_model_module_version": "1.5.0",
       "_model_name": "DescriptionStyleModel",
       "_view_count": null,
       "_view_module": "@jupyter-widgets/base",
       "_view_module_version": "1.2.0",
       "_view_name": "StyleView",
       "description_width": ""
      }
     },
     "21e27e13827343828e96bd8d2942f0d5": {
      "model_module": "@jupyter-widgets/controls",
      "model_module_version": "1.5.0",
      "model_name": "HTMLModel",
      "state": {
       "_dom_classes": [],
       "_model_module": "@jupyter-widgets/controls",
       "_model_module_version": "1.5.0",
       "_model_name": "HTMLModel",
       "_view_count": null,
       "_view_module": "@jupyter-widgets/controls",
       "_view_module_version": "1.5.0",
       "_view_name": "HTMLView",
       "description": "",
       "description_tooltip": null,
       "layout": "IPY_MODEL_368090967c914558aea6a7b78a5256b2",
       "placeholder": "​",
       "style": "IPY_MODEL_4c269e5b4a0b4f648bddc4e6ed1dc00a",
       "value": "Dl Size...: 100%"
      }
     },
     "228c7bda2eba4457b12fc252dbf88cfc": {
      "model_module": "@jupyter-widgets/base",
      "model_module_version": "1.2.0",
      "model_name": "LayoutModel",
      "state": {
       "_model_module": "@jupyter-widgets/base",
       "_model_module_version": "1.2.0",
       "_model_name": "LayoutModel",
       "_view_count": null,
       "_view_module": "@jupyter-widgets/base",
       "_view_module_version": "1.2.0",
       "_view_name": "LayoutView",
       "align_content": null,
       "align_items": null,
       "align_self": null,
       "border": null,
       "bottom": null,
       "display": null,
       "flex": null,
       "flex_flow": null,
       "grid_area": null,
       "grid_auto_columns": null,
       "grid_auto_flow": null,
       "grid_auto_rows": null,
       "grid_column": null,
       "grid_gap": null,
       "grid_row": null,
       "grid_template_areas": null,
       "grid_template_columns": null,
       "grid_template_rows": null,
       "height": null,
       "justify_content": null,
       "justify_items": null,
       "left": null,
       "margin": null,
       "max_height": null,
       "max_width": null,
       "min_height": null,
       "min_width": null,
       "object_fit": null,
       "object_position": null,
       "order": null,
       "overflow": null,
       "overflow_x": null,
       "overflow_y": null,
       "padding": null,
       "right": null,
       "top": null,
       "visibility": "hidden",
       "width": null
      }
     },
     "28620ebd973b40b7bda0cc4f638477ca": {
      "model_module": "@jupyter-widgets/controls",
      "model_module_version": "1.5.0",
      "model_name": "HTMLModel",
      "state": {
       "_dom_classes": [],
       "_model_module": "@jupyter-widgets/controls",
       "_model_module_version": "1.5.0",
       "_model_name": "HTMLModel",
       "_view_count": null,
       "_view_module": "@jupyter-widgets/controls",
       "_view_module_version": "1.5.0",
       "_view_name": "HTMLView",
       "description": "",
       "description_tooltip": null,
       "layout": "IPY_MODEL_8953ddcbbb314d778c031493af3f5582",
       "placeholder": "​",
       "style": "IPY_MODEL_b47dfcd287aa4ef1bb2b3efd0219f85d",
       "value": "Shuffling /root/tensorflow_datasets/imdb_reviews/plain_text/1.0.0.incomplete2AYCP3/imdb_reviews-train.tfrecord*...:  62%"
      }
     },
     "2a25c51649dc482d9ada9ca55b264f8a": {
      "model_module": "@jupyter-widgets/base",
      "model_module_version": "1.2.0",
      "model_name": "LayoutModel",
      "state": {
       "_model_module": "@jupyter-widgets/base",
       "_model_module_version": "1.2.0",
       "_model_name": "LayoutModel",
       "_view_count": null,
       "_view_module": "@jupyter-widgets/base",
       "_view_module_version": "1.2.0",
       "_view_name": "LayoutView",
       "align_content": null,
       "align_items": null,
       "align_self": null,
       "border": null,
       "bottom": null,
       "display": null,
       "flex": null,
       "flex_flow": null,
       "grid_area": null,
       "grid_auto_columns": null,
       "grid_auto_flow": null,
       "grid_auto_rows": null,
       "grid_column": null,
       "grid_gap": null,
       "grid_row": null,
       "grid_template_areas": null,
       "grid_template_columns": null,
       "grid_template_rows": null,
       "height": null,
       "justify_content": null,
       "justify_items": null,
       "left": null,
       "margin": null,
       "max_height": null,
       "max_width": null,
       "min_height": null,
       "min_width": null,
       "object_fit": null,
       "object_position": null,
       "order": null,
       "overflow": null,
       "overflow_x": null,
       "overflow_y": null,
       "padding": null,
       "right": null,
       "top": null,
       "visibility": null,
       "width": null
      }
     },
     "302e41fbb019443ca90f963ea3657e5e": {
      "model_module": "@jupyter-widgets/controls",
      "model_module_version": "1.5.0",
      "model_name": "FloatProgressModel",
      "state": {
       "_dom_classes": [],
       "_model_module": "@jupyter-widgets/controls",
       "_model_module_version": "1.5.0",
       "_model_name": "FloatProgressModel",
       "_view_count": null,
       "_view_module": "@jupyter-widgets/controls",
       "_view_module_version": "1.5.0",
       "_view_name": "ProgressView",
       "bar_style": "",
       "description": "",
       "description_tooltip": null,
       "layout": "IPY_MODEL_b2a28c40d3574f7695e071ee8aaa7bcd",
       "max": 3.0,
       "min": 0.0,
       "orientation": "horizontal",
       "style": "IPY_MODEL_4ab45541ba3b42e5be89e539821d24cd",
       "value": 3.0
      }
     },
     "32605d27ebaf4113a43d3446c4036797": {
      "model_module": "@jupyter-widgets/base",
      "model_module_version": "1.2.0",
      "model_name": "LayoutModel",
      "state": {
       "_model_module": "@jupyter-widgets/base",
       "_model_module_version": "1.2.0",
       "_model_name": "LayoutModel",
       "_view_count": null,
       "_view_module": "@jupyter-widgets/base",
       "_view_module_version": "1.2.0",
       "_view_name": "LayoutView",
       "align_content": null,
       "align_items": null,
       "align_self": null,
       "border": null,
       "bottom": null,
       "display": null,
       "flex": null,
       "flex_flow": null,
       "grid_area": null,
       "grid_auto_columns": null,
       "grid_auto_flow": null,
       "grid_auto_rows": null,
       "grid_column": null,
       "grid_gap": null,
       "grid_row": null,
       "grid_template_areas": null,
       "grid_template_columns": null,
       "grid_template_rows": null,
       "height": null,
       "justify_content": null,
       "justify_items": null,
       "left": null,
       "margin": null,
       "max_height": null,
       "max_width": null,
       "min_height": null,
       "min_width": null,
       "object_fit": null,
       "object_position": null,
       "order": null,
       "overflow": null,
       "overflow_x": null,
       "overflow_y": null,
       "padding": null,
       "right": null,
       "top": null,
       "visibility": null,
       "width": null
      }
     },
     "3376ab8cb58d4a0e810378296e8b6d1d": {
      "model_module": "@jupyter-widgets/controls",
      "model_module_version": "1.5.0",
      "model_name": "HBoxModel",
      "state": {
       "_dom_classes": [],
       "_model_module": "@jupyter-widgets/controls",
       "_model_module_version": "1.5.0",
       "_model_name": "HBoxModel",
       "_view_count": null,
       "_view_module": "@jupyter-widgets/controls",
       "_view_module_version": "1.5.0",
       "_view_name": "HBoxView",
       "box_style": "",
       "children": [
        "IPY_MODEL_3ac013d3f95349a2984f40befb2344af",
        "IPY_MODEL_f613339c5d514207b30ce1a08e47227f",
        "IPY_MODEL_90b6a4dc938149e3999e6c28987c349f"
       ],
       "layout": "IPY_MODEL_228c7bda2eba4457b12fc252dbf88cfc"
      }
     },
     "33dd4f25d9f749f1825d8159aeba1c79": {
      "model_module": "@jupyter-widgets/controls",
      "model_module_version": "1.5.0",
      "model_name": "HTMLModel",
      "state": {
       "_dom_classes": [],
       "_model_module": "@jupyter-widgets/controls",
       "_model_module_version": "1.5.0",
       "_model_name": "HTMLModel",
       "_view_count": null,
       "_view_module": "@jupyter-widgets/controls",
       "_view_module_version": "1.5.0",
       "_view_name": "HTMLView",
       "description": "",
       "description_tooltip": null,
       "layout": "IPY_MODEL_ba87c0abfa8a4785a045230042c61800",
       "placeholder": "​",
       "style": "IPY_MODEL_4779b8b1496c4b70b85f9ba2143edd09",
       "value": " 3/3 [00:43&lt;00:00, 14.83s/ splits]"
      }
     },
     "34a403b0536a4358ac6e44c153d18b35": {
      "model_module": "@jupyter-widgets/base",
      "model_module_version": "1.2.0",
      "model_name": "LayoutModel",
      "state": {
       "_model_module": "@jupyter-widgets/base",
       "_model_module_version": "1.2.0",
       "_model_name": "LayoutModel",
       "_view_count": null,
       "_view_module": "@jupyter-widgets/base",
       "_view_module_version": "1.2.0",
       "_view_name": "LayoutView",
       "align_content": null,
       "align_items": null,
       "align_self": null,
       "border": null,
       "bottom": null,
       "display": null,
       "flex": null,
       "flex_flow": null,
       "grid_area": null,
       "grid_auto_columns": null,
       "grid_auto_flow": null,
       "grid_auto_rows": null,
       "grid_column": null,
       "grid_gap": null,
       "grid_row": null,
       "grid_template_areas": null,
       "grid_template_columns": null,
       "grid_template_rows": null,
       "height": null,
       "justify_content": null,
       "justify_items": null,
       "left": null,
       "margin": null,
       "max_height": null,
       "max_width": null,
       "min_height": null,
       "min_width": null,
       "object_fit": null,
       "object_position": null,
       "order": null,
       "overflow": null,
       "overflow_x": null,
       "overflow_y": null,
       "padding": null,
       "right": null,
       "top": null,
       "visibility": null,
       "width": null
      }
     },
     "368090967c914558aea6a7b78a5256b2": {
      "model_module": "@jupyter-widgets/base",
      "model_module_version": "1.2.0",
      "model_name": "LayoutModel",
      "state": {
       "_model_module": "@jupyter-widgets/base",
       "_model_module_version": "1.2.0",
       "_model_name": "LayoutModel",
       "_view_count": null,
       "_view_module": "@jupyter-widgets/base",
       "_view_module_version": "1.2.0",
       "_view_name": "LayoutView",
       "align_content": null,
       "align_items": null,
       "align_self": null,
       "border": null,
       "bottom": null,
       "display": null,
       "flex": null,
       "flex_flow": null,
       "grid_area": null,
       "grid_auto_columns": null,
       "grid_auto_flow": null,
       "grid_auto_rows": null,
       "grid_column": null,
       "grid_gap": null,
       "grid_row": null,
       "grid_template_areas": null,
       "grid_template_columns": null,
       "grid_template_rows": null,
       "height": null,
       "justify_content": null,
       "justify_items": null,
       "left": null,
       "margin": null,
       "max_height": null,
       "max_width": null,
       "min_height": null,
       "min_width": null,
       "object_fit": null,
       "object_position": null,
       "order": null,
       "overflow": null,
       "overflow_x": null,
       "overflow_y": null,
       "padding": null,
       "right": null,
       "top": null,
       "visibility": null,
       "width": null
      }
     },
     "3a5a21cf5d6b4fef9c1b3370bb3a1712": {
      "model_module": "@jupyter-widgets/controls",
      "model_module_version": "1.5.0",
      "model_name": "FloatProgressModel",
      "state": {
       "_dom_classes": [],
       "_model_module": "@jupyter-widgets/controls",
       "_model_module_version": "1.5.0",
       "_model_name": "FloatProgressModel",
       "_view_count": null,
       "_view_module": "@jupyter-widgets/controls",
       "_view_module_version": "1.5.0",
       "_view_name": "ProgressView",
       "bar_style": "",
       "description": "",
       "description_tooltip": null,
       "layout": "IPY_MODEL_2a25c51649dc482d9ada9ca55b264f8a",
       "max": 25000.0,
       "min": 0.0,
       "orientation": "horizontal",
       "style": "IPY_MODEL_d85b036b34ea4b57af2235e792f2ba62",
       "value": 25000.0
      }
     },
     "3ac013d3f95349a2984f40befb2344af": {
      "model_module": "@jupyter-widgets/controls",
      "model_module_version": "1.5.0",
      "model_name": "HTMLModel",
      "state": {
       "_dom_classes": [],
       "_model_module": "@jupyter-widgets/controls",
       "_model_module_version": "1.5.0",
       "_model_name": "HTMLModel",
       "_view_count": null,
       "_view_module": "@jupyter-widgets/controls",
       "_view_module_version": "1.5.0",
       "_view_name": "HTMLView",
       "description": "",
       "description_tooltip": null,
       "layout": "IPY_MODEL_acdd820a53b74346982c1f5057013a1b",
       "placeholder": "​",
       "style": "IPY_MODEL_b76351734842497da36ba13629939b67",
       "value": "Shuffling /root/tensorflow_datasets/imdb_reviews/plain_text/1.0.0.incomplete2AYCP3/imdb_reviews-unsupervised.tfrecord*...:  65%"
      }
     },
     "3cfa96ad77fb442497db76ea3c3dfabf": {
      "model_module": "@jupyter-widgets/base",
      "model_module_version": "1.2.0",
      "model_name": "LayoutModel",
      "state": {
       "_model_module": "@jupyter-widgets/base",
       "_model_module_version": "1.2.0",
       "_model_name": "LayoutModel",
       "_view_count": null,
       "_view_module": "@jupyter-widgets/base",
       "_view_module_version": "1.2.0",
       "_view_name": "LayoutView",
       "align_content": null,
       "align_items": null,
       "align_self": null,
       "border": null,
       "bottom": null,
       "display": null,
       "flex": null,
       "flex_flow": null,
       "grid_area": null,
       "grid_auto_columns": null,
       "grid_auto_flow": null,
       "grid_auto_rows": null,
       "grid_column": null,
       "grid_gap": null,
       "grid_row": null,
       "grid_template_areas": null,
       "grid_template_columns": null,
       "grid_template_rows": null,
       "height": null,
       "justify_content": null,
       "justify_items": null,
       "left": null,
       "margin": null,
       "max_height": null,
       "max_width": null,
       "min_height": null,
       "min_width": null,
       "object_fit": null,
       "object_position": null,
       "order": null,
       "overflow": null,
       "overflow_x": null,
       "overflow_y": null,
       "padding": null,
       "right": null,
       "top": null,
       "visibility": "hidden",
       "width": null
      }
     },
     "417638edf449441f880d02203af2a881": {
      "model_module": "@jupyter-widgets/base",
      "model_module_version": "1.2.0",
      "model_name": "LayoutModel",
      "state": {
       "_model_module": "@jupyter-widgets/base",
       "_model_module_version": "1.2.0",
       "_model_name": "LayoutModel",
       "_view_count": null,
       "_view_module": "@jupyter-widgets/base",
       "_view_module_version": "1.2.0",
       "_view_name": "LayoutView",
       "align_content": null,
       "align_items": null,
       "align_self": null,
       "border": null,
       "bottom": null,
       "display": null,
       "flex": null,
       "flex_flow": null,
       "grid_area": null,
       "grid_auto_columns": null,
       "grid_auto_flow": null,
       "grid_auto_rows": null,
       "grid_column": null,
       "grid_gap": null,
       "grid_row": null,
       "grid_template_areas": null,
       "grid_template_columns": null,
       "grid_template_rows": null,
       "height": null,
       "justify_content": null,
       "justify_items": null,
       "left": null,
       "margin": null,
       "max_height": null,
       "max_width": null,
       "min_height": null,
       "min_width": null,
       "object_fit": null,
       "object_position": null,
       "order": null,
       "overflow": null,
       "overflow_x": null,
       "overflow_y": null,
       "padding": null,
       "right": null,
       "top": null,
       "visibility": null,
       "width": null
      }
     },
     "44ebc315a0fc430b8cff094a8170c98c": {
      "model_module": "@jupyter-widgets/controls",
      "model_module_version": "1.5.0",
      "model_name": "HTMLModel",
      "state": {
       "_dom_classes": [],
       "_model_module": "@jupyter-widgets/controls",
       "_model_module_version": "1.5.0",
       "_model_name": "HTMLModel",
       "_view_count": null,
       "_view_module": "@jupyter-widgets/controls",
       "_view_module_version": "1.5.0",
       "_view_name": "HTMLView",
       "description": "",
       "description_tooltip": null,
       "layout": "IPY_MODEL_e45a53e7a5544e9087399d068effcc9d",
       "placeholder": "​",
       "style": "IPY_MODEL_c03d284dd8e74275930c4f03407d6d2d",
       "value": "Generating train examples...:  91%"
      }
     },
     "4779b8b1496c4b70b85f9ba2143edd09": {
      "model_module": "@jupyter-widgets/controls",
      "model_module_version": "1.5.0",
      "model_name": "DescriptionStyleModel",
      "state": {
       "_model_module": "@jupyter-widgets/controls",
       "_model_module_version": "1.5.0",
       "_model_name": "DescriptionStyleModel",
       "_view_count": null,
       "_view_module": "@jupyter-widgets/base",
       "_view_module_version": "1.2.0",
       "_view_name": "StyleView",
       "description_width": ""
      }
     },
     "47b06a4164274ab2996ee9a2cd66b83a": {
      "model_module": "@jupyter-widgets/controls",
      "model_module_version": "1.5.0",
      "model_name": "HBoxModel",
      "state": {
       "_dom_classes": [],
       "_model_module": "@jupyter-widgets/controls",
       "_model_module_version": "1.5.0",
       "_model_name": "HBoxModel",
       "_view_count": null,
       "_view_module": "@jupyter-widgets/controls",
       "_view_module_version": "1.5.0",
       "_view_name": "HBoxView",
       "box_style": "",
       "children": [
        "IPY_MODEL_44ebc315a0fc430b8cff094a8170c98c",
        "IPY_MODEL_3a5a21cf5d6b4fef9c1b3370bb3a1712",
        "IPY_MODEL_f6c8df79794e4ad7b41d133d9abf06d4"
       ],
       "layout": "IPY_MODEL_d925a2a24eca44a8aff2c26862a3e044"
      }
     },
     "482f92b216a6407faf09ac94dc9cd2df": {
      "model_module": "@jupyter-widgets/controls",
      "model_module_version": "1.5.0",
      "model_name": "HTMLModel",
      "state": {
       "_dom_classes": [],
       "_model_module": "@jupyter-widgets/controls",
       "_model_module_version": "1.5.0",
       "_model_name": "HTMLModel",
       "_view_count": null,
       "_view_module": "@jupyter-widgets/controls",
       "_view_module_version": "1.5.0",
       "_view_name": "HTMLView",
       "description": "",
       "description_tooltip": null,
       "layout": "IPY_MODEL_9b37868b0e5d4370aa97d924a910b463",
       "placeholder": "​",
       "style": "IPY_MODEL_995ea358e4bd4cf5962539a2da4d24da",
       "value": " 15389/25000 [00:00&lt;00:00, 153866.67 examples/s]"
      }
     },
     "48f2cbff763a4f22833b4531ec5d010b": {
      "model_module": "@jupyter-widgets/controls",
      "model_module_version": "1.5.0",
      "model_name": "HTMLModel",
      "state": {
       "_dom_classes": [],
       "_model_module": "@jupyter-widgets/controls",
       "_model_module_version": "1.5.0",
       "_model_name": "HTMLModel",
       "_view_count": null,
       "_view_module": "@jupyter-widgets/controls",
       "_view_module_version": "1.5.0",
       "_view_name": "HTMLView",
       "description": "",
       "description_tooltip": null,
       "layout": "IPY_MODEL_bb88ecada2e446c8994fd163d3e3f961",
       "placeholder": "​",
       "style": "IPY_MODEL_9347b1bdcaf341d6832bd4190e7bdb8b",
       "value": "Generating unsupervised examples...:  97%"
      }
     },
     "490631034ce743598c79a55ec81126b3": {
      "model_module": "@jupyter-widgets/controls",
      "model_module_version": "1.5.0",
      "model_name": "HTMLModel",
      "state": {
       "_dom_classes": [],
       "_model_module": "@jupyter-widgets/controls",
       "_model_module_version": "1.5.0",
       "_model_name": "HTMLModel",
       "_view_count": null,
       "_view_module": "@jupyter-widgets/controls",
       "_view_module_version": "1.5.0",
       "_view_name": "HTMLView",
       "description": "",
       "description_tooltip": null,
       "layout": "IPY_MODEL_e3ac445d6b2548d385b4c05685b8ed82",
       "placeholder": "​",
       "style": "IPY_MODEL_20eb2897b82c49f9be81da4ea6d43798",
       "value": "Generating test examples...:  87%"
      }
     },
     "4ab45541ba3b42e5be89e539821d24cd": {
      "model_module": "@jupyter-widgets/controls",
      "model_module_version": "1.5.0",
      "model_name": "ProgressStyleModel",
      "state": {
       "_model_module": "@jupyter-widgets/controls",
       "_model_module_version": "1.5.0",
       "_model_name": "ProgressStyleModel",
       "_view_count": null,
       "_view_module": "@jupyter-widgets/base",
       "_view_module_version": "1.2.0",
       "_view_name": "StyleView",
       "bar_color": null,
       "description_width": ""
      }
     },
     "4c269e5b4a0b4f648bddc4e6ed1dc00a": {
      "model_module": "@jupyter-widgets/controls",
      "model_module_version": "1.5.0",
      "model_name": "DescriptionStyleModel",
      "state": {
       "_model_module": "@jupyter-widgets/controls",
       "_model_module_version": "1.5.0",
       "_model_name": "DescriptionStyleModel",
       "_view_count": null,
       "_view_module": "@jupyter-widgets/base",
       "_view_module_version": "1.2.0",
       "_view_name": "StyleView",
       "description_width": ""
      }
     },
     "5284034eeeed420aa1241b04e8a883b5": {
      "model_module": "@jupyter-widgets/controls",
      "model_module_version": "1.5.0",
      "model_name": "HTMLModel",
      "state": {
       "_dom_classes": [],
       "_model_module": "@jupyter-widgets/controls",
       "_model_module_version": "1.5.0",
       "_model_name": "HTMLModel",
       "_view_count": null,
       "_view_module": "@jupyter-widgets/controls",
       "_view_module_version": "1.5.0",
       "_view_name": "HTMLView",
       "description": "",
       "description_tooltip": null,
       "layout": "IPY_MODEL_9796a9d3fa444df3b58457d8701edff8",
       "placeholder": "​",
       "style": "IPY_MODEL_a438e300369945ac8ced6abce970f1f8",
       "value": " 14239/25000 [00:00&lt;00:00, 142352.46 examples/s]"
      }
     },
     "55641add5ad94b2393519b38c6db83ec": {
      "model_module": "@jupyter-widgets/controls",
      "model_module_version": "1.5.0",
      "model_name": "DescriptionStyleModel",
      "state": {
       "_model_module": "@jupyter-widgets/controls",
       "_model_module_version": "1.5.0",
       "_model_name": "DescriptionStyleModel",
       "_view_count": null,
       "_view_module": "@jupyter-widgets/base",
       "_view_module_version": "1.2.0",
       "_view_name": "StyleView",
       "description_width": ""
      }
     },
     "569e6eb5025e4dc2b441f0adf76d08b2": {
      "model_module": "@jupyter-widgets/controls",
      "model_module_version": "1.5.0",
      "model_name": "DescriptionStyleModel",
      "state": {
       "_model_module": "@jupyter-widgets/controls",
       "_model_module_version": "1.5.0",
       "_model_name": "DescriptionStyleModel",
       "_view_count": null,
       "_view_module": "@jupyter-widgets/base",
       "_view_module_version": "1.2.0",
       "_view_name": "StyleView",
       "description_width": ""
      }
     },
     "5b993c3164964b158bb1dbfec84b292f": {
      "model_module": "@jupyter-widgets/base",
      "model_module_version": "1.2.0",
      "model_name": "LayoutModel",
      "state": {
       "_model_module": "@jupyter-widgets/base",
       "_model_module_version": "1.2.0",
       "_model_name": "LayoutModel",
       "_view_count": null,
       "_view_module": "@jupyter-widgets/base",
       "_view_module_version": "1.2.0",
       "_view_name": "LayoutView",
       "align_content": null,
       "align_items": null,
       "align_self": null,
       "border": null,
       "bottom": null,
       "display": null,
       "flex": null,
       "flex_flow": null,
       "grid_area": null,
       "grid_auto_columns": null,
       "grid_auto_flow": null,
       "grid_auto_rows": null,
       "grid_column": null,
       "grid_gap": null,
       "grid_row": null,
       "grid_template_areas": null,
       "grid_template_columns": null,
       "grid_template_rows": null,
       "height": null,
       "justify_content": null,
       "justify_items": null,
       "left": null,
       "margin": null,
       "max_height": null,
       "max_width": null,
       "min_height": null,
       "min_width": null,
       "object_fit": null,
       "object_position": null,
       "order": null,
       "overflow": null,
       "overflow_x": null,
       "overflow_y": null,
       "padding": null,
       "right": null,
       "top": null,
       "visibility": "hidden",
       "width": null
      }
     },
     "6443b84125c949b2bc84e5cb4023ac60": {
      "model_module": "@jupyter-widgets/controls",
      "model_module_version": "1.5.0",
      "model_name": "HBoxModel",
      "state": {
       "_dom_classes": [],
       "_model_module": "@jupyter-widgets/controls",
       "_model_module_version": "1.5.0",
       "_model_name": "HBoxModel",
       "_view_count": null,
       "_view_module": "@jupyter-widgets/controls",
       "_view_module_version": "1.5.0",
       "_view_name": "HBoxView",
       "box_style": "",
       "children": [
        "IPY_MODEL_21e27e13827343828e96bd8d2942f0d5",
        "IPY_MODEL_f850077dd30b44a0a1f8a502daf7c91e",
        "IPY_MODEL_f6669295d980408d86d96283119d138a"
       ],
       "layout": "IPY_MODEL_c86f7dfd59c64925ad45da6a4d880d9e"
      }
     },
     "7297921246014918be64765d7cf945e0": {
      "model_module": "@jupyter-widgets/base",
      "model_module_version": "1.2.0",
      "model_name": "LayoutModel",
      "state": {
       "_model_module": "@jupyter-widgets/base",
       "_model_module_version": "1.2.0",
       "_model_name": "LayoutModel",
       "_view_count": null,
       "_view_module": "@jupyter-widgets/base",
       "_view_module_version": "1.2.0",
       "_view_name": "LayoutView",
       "align_content": null,
       "align_items": null,
       "align_self": null,
       "border": null,
       "bottom": null,
       "display": null,
       "flex": null,
       "flex_flow": null,
       "grid_area": null,
       "grid_auto_columns": null,
       "grid_auto_flow": null,
       "grid_auto_rows": null,
       "grid_column": null,
       "grid_gap": null,
       "grid_row": null,
       "grid_template_areas": null,
       "grid_template_columns": null,
       "grid_template_rows": null,
       "height": null,
       "justify_content": null,
       "justify_items": null,
       "left": null,
       "margin": null,
       "max_height": null,
       "max_width": null,
       "min_height": null,
       "min_width": null,
       "object_fit": null,
       "object_position": null,
       "order": null,
       "overflow": null,
       "overflow_x": null,
       "overflow_y": null,
       "padding": null,
       "right": null,
       "top": null,
       "visibility": "hidden",
       "width": null
      }
     },
     "74472e0f8e554b19be8a84fc864ebde2": {
      "model_module": "@jupyter-widgets/controls",
      "model_module_version": "1.5.0",
      "model_name": "ProgressStyleModel",
      "state": {
       "_model_module": "@jupyter-widgets/controls",
       "_model_module_version": "1.5.0",
       "_model_name": "ProgressStyleModel",
       "_view_count": null,
       "_view_module": "@jupyter-widgets/base",
       "_view_module_version": "1.2.0",
       "_view_name": "StyleView",
       "bar_color": null,
       "description_width": ""
      }
     },
     "746455737bb4455bac386c712362acc5": {
      "model_module": "@jupyter-widgets/controls",
      "model_module_version": "1.5.0",
      "model_name": "DescriptionStyleModel",
      "state": {
       "_model_module": "@jupyter-widgets/controls",
       "_model_module_version": "1.5.0",
       "_model_name": "DescriptionStyleModel",
       "_view_count": null,
       "_view_module": "@jupyter-widgets/base",
       "_view_module_version": "1.2.0",
       "_view_name": "StyleView",
       "description_width": ""
      }
     },
     "786b2a1abab749418cc111b9be0a1553": {
      "model_module": "@jupyter-widgets/controls",
      "model_module_version": "1.5.0",
      "model_name": "DescriptionStyleModel",
      "state": {
       "_model_module": "@jupyter-widgets/controls",
       "_model_module_version": "1.5.0",
       "_model_name": "DescriptionStyleModel",
       "_view_count": null,
       "_view_module": "@jupyter-widgets/base",
       "_view_module_version": "1.2.0",
       "_view_name": "StyleView",
       "description_width": ""
      }
     },
     "78be5cfae02a442b9f6e0580e69720b9": {
      "model_module": "@jupyter-widgets/controls",
      "model_module_version": "1.5.0",
      "model_name": "ProgressStyleModel",
      "state": {
       "_model_module": "@jupyter-widgets/controls",
       "_model_module_version": "1.5.0",
       "_model_name": "ProgressStyleModel",
       "_view_count": null,
       "_view_module": "@jupyter-widgets/base",
       "_view_module_version": "1.2.0",
       "_view_name": "StyleView",
       "bar_color": null,
       "description_width": ""
      }
     },
     "7db4d321215b490fb1dfeb2031ee498b": {
      "model_module": "@jupyter-widgets/base",
      "model_module_version": "1.2.0",
      "model_name": "LayoutModel",
      "state": {
       "_model_module": "@jupyter-widgets/base",
       "_model_module_version": "1.2.0",
       "_model_name": "LayoutModel",
       "_view_count": null,
       "_view_module": "@jupyter-widgets/base",
       "_view_module_version": "1.2.0",
       "_view_name": "LayoutView",
       "align_content": null,
       "align_items": null,
       "align_self": null,
       "border": null,
       "bottom": null,
       "display": null,
       "flex": null,
       "flex_flow": null,
       "grid_area": null,
       "grid_auto_columns": null,
       "grid_auto_flow": null,
       "grid_auto_rows": null,
       "grid_column": null,
       "grid_gap": null,
       "grid_row": null,
       "grid_template_areas": null,
       "grid_template_columns": null,
       "grid_template_rows": null,
       "height": null,
       "justify_content": null,
       "justify_items": null,
       "left": null,
       "margin": null,
       "max_height": null,
       "max_width": null,
       "min_height": null,
       "min_width": null,
       "object_fit": null,
       "object_position": null,
       "order": null,
       "overflow": null,
       "overflow_x": null,
       "overflow_y": null,
       "padding": null,
       "right": null,
       "top": null,
       "visibility": null,
       "width": null
      }
     },
     "809c213fe84d4e07a745e33946483780": {
      "model_module": "@jupyter-widgets/controls",
      "model_module_version": "1.5.0",
      "model_name": "FloatProgressModel",
      "state": {
       "_dom_classes": [],
       "_model_module": "@jupyter-widgets/controls",
       "_model_module_version": "1.5.0",
       "_model_name": "FloatProgressModel",
       "_view_count": null,
       "_view_module": "@jupyter-widgets/controls",
       "_view_module_version": "1.5.0",
       "_view_name": "ProgressView",
       "bar_style": "",
       "description": "",
       "description_tooltip": null,
       "layout": "IPY_MODEL_ac15a72ace6b41eea8c5f503eba2502d",
       "max": 50000.0,
       "min": 0.0,
       "orientation": "horizontal",
       "style": "IPY_MODEL_93c689b1f29b4520a7b9f4097acd7ee4",
       "value": 50000.0
      }
     },
     "8953ddcbbb314d778c031493af3f5582": {
      "model_module": "@jupyter-widgets/base",
      "model_module_version": "1.2.0",
      "model_name": "LayoutModel",
      "state": {
       "_model_module": "@jupyter-widgets/base",
       "_model_module_version": "1.2.0",
       "_model_name": "LayoutModel",
       "_view_count": null,
       "_view_module": "@jupyter-widgets/base",
       "_view_module_version": "1.2.0",
       "_view_name": "LayoutView",
       "align_content": null,
       "align_items": null,
       "align_self": null,
       "border": null,
       "bottom": null,
       "display": null,
       "flex": null,
       "flex_flow": null,
       "grid_area": null,
       "grid_auto_columns": null,
       "grid_auto_flow": null,
       "grid_auto_rows": null,
       "grid_column": null,
       "grid_gap": null,
       "grid_row": null,
       "grid_template_areas": null,
       "grid_template_columns": null,
       "grid_template_rows": null,
       "height": null,
       "justify_content": null,
       "justify_items": null,
       "left": null,
       "margin": null,
       "max_height": null,
       "max_width": null,
       "min_height": null,
       "min_width": null,
       "object_fit": null,
       "object_position": null,
       "order": null,
       "overflow": null,
       "overflow_x": null,
       "overflow_y": null,
       "padding": null,
       "right": null,
       "top": null,
       "visibility": null,
       "width": null
      }
     },
     "90b6a4dc938149e3999e6c28987c349f": {
      "model_module": "@jupyter-widgets/controls",
      "model_module_version": "1.5.0",
      "model_name": "HTMLModel",
      "state": {
       "_dom_classes": [],
       "_model_module": "@jupyter-widgets/controls",
       "_model_module_version": "1.5.0",
       "_model_name": "HTMLModel",
       "_view_count": null,
       "_view_module": "@jupyter-widgets/controls",
       "_view_module_version": "1.5.0",
       "_view_name": "HTMLView",
       "description": "",
       "description_tooltip": null,
       "layout": "IPY_MODEL_aa7cad5a867f4c078ebb786ba4c56d4a",
       "placeholder": "​",
       "style": "IPY_MODEL_55641add5ad94b2393519b38c6db83ec",
       "value": " 32676/50000 [00:00&lt;00:00, 170687.83 examples/s]"
      }
     },
     "91f8c45f52ec4f78b588836b255f73a7": {
      "model_module": "@jupyter-widgets/base",
      "model_module_version": "1.2.0",
      "model_name": "LayoutModel",
      "state": {
       "_model_module": "@jupyter-widgets/base",
       "_model_module_version": "1.2.0",
       "_model_name": "LayoutModel",
       "_view_count": null,
       "_view_module": "@jupyter-widgets/base",
       "_view_module_version": "1.2.0",
       "_view_name": "LayoutView",
       "align_content": null,
       "align_items": null,
       "align_self": null,
       "border": null,
       "bottom": null,
       "display": null,
       "flex": null,
       "flex_flow": null,
       "grid_area": null,
       "grid_auto_columns": null,
       "grid_auto_flow": null,
       "grid_auto_rows": null,
       "grid_column": null,
       "grid_gap": null,
       "grid_row": null,
       "grid_template_areas": null,
       "grid_template_columns": null,
       "grid_template_rows": null,
       "height": null,
       "justify_content": null,
       "justify_items": null,
       "left": null,
       "margin": null,
       "max_height": null,
       "max_width": null,
       "min_height": null,
       "min_width": null,
       "object_fit": null,
       "object_position": null,
       "order": null,
       "overflow": null,
       "overflow_x": null,
       "overflow_y": null,
       "padding": null,
       "right": null,
       "top": null,
       "visibility": null,
       "width": "20px"
      }
     },
     "9347b1bdcaf341d6832bd4190e7bdb8b": {
      "model_module": "@jupyter-widgets/controls",
      "model_module_version": "1.5.0",
      "model_name": "DescriptionStyleModel",
      "state": {
       "_model_module": "@jupyter-widgets/controls",
       "_model_module_version": "1.5.0",
       "_model_name": "DescriptionStyleModel",
       "_view_count": null,
       "_view_module": "@jupyter-widgets/base",
       "_view_module_version": "1.2.0",
       "_view_name": "StyleView",
       "description_width": ""
      }
     },
     "93c689b1f29b4520a7b9f4097acd7ee4": {
      "model_module": "@jupyter-widgets/controls",
      "model_module_version": "1.5.0",
      "model_name": "ProgressStyleModel",
      "state": {
       "_model_module": "@jupyter-widgets/controls",
       "_model_module_version": "1.5.0",
       "_model_name": "ProgressStyleModel",
       "_view_count": null,
       "_view_module": "@jupyter-widgets/base",
       "_view_module_version": "1.2.0",
       "_view_name": "StyleView",
       "bar_color": null,
       "description_width": ""
      }
     },
     "94645c18645c485783ea3d636251e833": {
      "model_module": "@jupyter-widgets/base",
      "model_module_version": "1.2.0",
      "model_name": "LayoutModel",
      "state": {
       "_model_module": "@jupyter-widgets/base",
       "_model_module_version": "1.2.0",
       "_model_name": "LayoutModel",
       "_view_count": null,
       "_view_module": "@jupyter-widgets/base",
       "_view_module_version": "1.2.0",
       "_view_name": "LayoutView",
       "align_content": null,
       "align_items": null,
       "align_self": null,
       "border": null,
       "bottom": null,
       "display": null,
       "flex": null,
       "flex_flow": null,
       "grid_area": null,
       "grid_auto_columns": null,
       "grid_auto_flow": null,
       "grid_auto_rows": null,
       "grid_column": null,
       "grid_gap": null,
       "grid_row": null,
       "grid_template_areas": null,
       "grid_template_columns": null,
       "grid_template_rows": null,
       "height": null,
       "justify_content": null,
       "justify_items": null,
       "left": null,
       "margin": null,
       "max_height": null,
       "max_width": null,
       "min_height": null,
       "min_width": null,
       "object_fit": null,
       "object_position": null,
       "order": null,
       "overflow": null,
       "overflow_x": null,
       "overflow_y": null,
       "padding": null,
       "right": null,
       "top": null,
       "visibility": null,
       "width": null
      }
     },
     "96c72c10d74e4f3886b5e9d7318a7414": {
      "model_module": "@jupyter-widgets/controls",
      "model_module_version": "1.5.0",
      "model_name": "HTMLModel",
      "state": {
       "_dom_classes": [],
       "_model_module": "@jupyter-widgets/controls",
       "_model_module_version": "1.5.0",
       "_model_name": "HTMLModel",
       "_view_count": null,
       "_view_module": "@jupyter-widgets/controls",
       "_view_module_version": "1.5.0",
       "_view_name": "HTMLView",
       "description": "",
       "description_tooltip": null,
       "layout": "IPY_MODEL_417638edf449441f880d02203af2a881",
       "placeholder": "​",
       "style": "IPY_MODEL_569e6eb5025e4dc2b441f0adf76d08b2",
       "value": " 21743/25000 [00:05&lt;00:00, 4691.45 examples/s]"
      }
     },
     "9796a9d3fa444df3b58457d8701edff8": {
      "model_module": "@jupyter-widgets/base",
      "model_module_version": "1.2.0",
      "model_name": "LayoutModel",
      "state": {
       "_model_module": "@jupyter-widgets/base",
       "_model_module_version": "1.2.0",
       "_model_name": "LayoutModel",
       "_view_count": null,
       "_view_module": "@jupyter-widgets/base",
       "_view_module_version": "1.2.0",
       "_view_name": "LayoutView",
       "align_content": null,
       "align_items": null,
       "align_self": null,
       "border": null,
       "bottom": null,
       "display": null,
       "flex": null,
       "flex_flow": null,
       "grid_area": null,
       "grid_auto_columns": null,
       "grid_auto_flow": null,
       "grid_auto_rows": null,
       "grid_column": null,
       "grid_gap": null,
       "grid_row": null,
       "grid_template_areas": null,
       "grid_template_columns": null,
       "grid_template_rows": null,
       "height": null,
       "justify_content": null,
       "justify_items": null,
       "left": null,
       "margin": null,
       "max_height": null,
       "max_width": null,
       "min_height": null,
       "min_width": null,
       "object_fit": null,
       "object_position": null,
       "order": null,
       "overflow": null,
       "overflow_x": null,
       "overflow_y": null,
       "padding": null,
       "right": null,
       "top": null,
       "visibility": null,
       "width": null
      }
     },
     "995ea358e4bd4cf5962539a2da4d24da": {
      "model_module": "@jupyter-widgets/controls",
      "model_module_version": "1.5.0",
      "model_name": "DescriptionStyleModel",
      "state": {
       "_model_module": "@jupyter-widgets/controls",
       "_model_module_version": "1.5.0",
       "_model_name": "DescriptionStyleModel",
       "_view_count": null,
       "_view_module": "@jupyter-widgets/base",
       "_view_module_version": "1.2.0",
       "_view_name": "StyleView",
       "description_width": ""
      }
     },
     "9aaced384f1e4db7b4092d2491fb68b3": {
      "model_module": "@jupyter-widgets/controls",
      "model_module_version": "1.5.0",
      "model_name": "ProgressStyleModel",
      "state": {
       "_model_module": "@jupyter-widgets/controls",
       "_model_module_version": "1.5.0",
       "_model_name": "ProgressStyleModel",
       "_view_count": null,
       "_view_module": "@jupyter-widgets/base",
       "_view_module_version": "1.2.0",
       "_view_name": "StyleView",
       "bar_color": null,
       "description_width": ""
      }
     },
     "9b37868b0e5d4370aa97d924a910b463": {
      "model_module": "@jupyter-widgets/base",
      "model_module_version": "1.2.0",
      "model_name": "LayoutModel",
      "state": {
       "_model_module": "@jupyter-widgets/base",
       "_model_module_version": "1.2.0",
       "_model_name": "LayoutModel",
       "_view_count": null,
       "_view_module": "@jupyter-widgets/base",
       "_view_module_version": "1.2.0",
       "_view_name": "LayoutView",
       "align_content": null,
       "align_items": null,
       "align_self": null,
       "border": null,
       "bottom": null,
       "display": null,
       "flex": null,
       "flex_flow": null,
       "grid_area": null,
       "grid_auto_columns": null,
       "grid_auto_flow": null,
       "grid_auto_rows": null,
       "grid_column": null,
       "grid_gap": null,
       "grid_row": null,
       "grid_template_areas": null,
       "grid_template_columns": null,
       "grid_template_rows": null,
       "height": null,
       "justify_content": null,
       "justify_items": null,
       "left": null,
       "margin": null,
       "max_height": null,
       "max_width": null,
       "min_height": null,
       "min_width": null,
       "object_fit": null,
       "object_position": null,
       "order": null,
       "overflow": null,
       "overflow_x": null,
       "overflow_y": null,
       "padding": null,
       "right": null,
       "top": null,
       "visibility": null,
       "width": null
      }
     },
     "9d514f2d43894d2da8a61aa83abe9f23": {
      "model_module": "@jupyter-widgets/controls",
      "model_module_version": "1.5.0",
      "model_name": "FloatProgressModel",
      "state": {
       "_dom_classes": [],
       "_model_module": "@jupyter-widgets/controls",
       "_model_module_version": "1.5.0",
       "_model_name": "FloatProgressModel",
       "_view_count": null,
       "_view_module": "@jupyter-widgets/controls",
       "_view_module_version": "1.5.0",
       "_view_name": "ProgressView",
       "bar_style": "",
       "description": "",
       "description_tooltip": null,
       "layout": "IPY_MODEL_030bf08832eb417399cb3f0c4df0d240",
       "max": 25000.0,
       "min": 0.0,
       "orientation": "horizontal",
       "style": "IPY_MODEL_9aaced384f1e4db7b4092d2491fb68b3",
       "value": 25000.0
      }
     },
     "9f2dc1a30b7b496b944a48125f111e61": {
      "model_module": "@jupyter-widgets/controls",
      "model_module_version": "1.5.0",
      "model_name": "ProgressStyleModel",
      "state": {
       "_model_module": "@jupyter-widgets/controls",
       "_model_module_version": "1.5.0",
       "_model_name": "ProgressStyleModel",
       "_view_count": null,
       "_view_module": "@jupyter-widgets/base",
       "_view_module_version": "1.2.0",
       "_view_name": "StyleView",
       "bar_color": null,
       "description_width": ""
      }
     },
     "a23978501dac474883ccf1d450484b2c": {
      "model_module": "@jupyter-widgets/base",
      "model_module_version": "1.2.0",
      "model_name": "LayoutModel",
      "state": {
       "_model_module": "@jupyter-widgets/base",
       "_model_module_version": "1.2.0",
       "_model_name": "LayoutModel",
       "_view_count": null,
       "_view_module": "@jupyter-widgets/base",
       "_view_module_version": "1.2.0",
       "_view_name": "LayoutView",
       "align_content": null,
       "align_items": null,
       "align_self": null,
       "border": null,
       "bottom": null,
       "display": null,
       "flex": null,
       "flex_flow": null,
       "grid_area": null,
       "grid_auto_columns": null,
       "grid_auto_flow": null,
       "grid_auto_rows": null,
       "grid_column": null,
       "grid_gap": null,
       "grid_row": null,
       "grid_template_areas": null,
       "grid_template_columns": null,
       "grid_template_rows": null,
       "height": null,
       "justify_content": null,
       "justify_items": null,
       "left": null,
       "margin": null,
       "max_height": null,
       "max_width": null,
       "min_height": null,
       "min_width": null,
       "object_fit": null,
       "object_position": null,
       "order": null,
       "overflow": null,
       "overflow_x": null,
       "overflow_y": null,
       "padding": null,
       "right": null,
       "top": null,
       "visibility": null,
       "width": null
      }
     },
     "a26860a6f7d043a0927b38fa1198526a": {
      "model_module": "@jupyter-widgets/controls",
      "model_module_version": "1.5.0",
      "model_name": "HTMLModel",
      "state": {
       "_dom_classes": [],
       "_model_module": "@jupyter-widgets/controls",
       "_model_module_version": "1.5.0",
       "_model_name": "HTMLModel",
       "_view_count": null,
       "_view_module": "@jupyter-widgets/controls",
       "_view_module_version": "1.5.0",
       "_view_name": "HTMLView",
       "description": "",
       "description_tooltip": null,
       "layout": "IPY_MODEL_d44f620d9a2540068ed1dcabfb1b6c8b",
       "placeholder": "​",
       "style": "IPY_MODEL_e5fea53d712c49d1a596ff2742d2de3d",
       "value": " 1/1 [00:03&lt;00:00,  3.89s/ url]"
      }
     },
     "a438e300369945ac8ced6abce970f1f8": {
      "model_module": "@jupyter-widgets/controls",
      "model_module_version": "1.5.0",
      "model_name": "DescriptionStyleModel",
      "state": {
       "_model_module": "@jupyter-widgets/controls",
       "_model_module_version": "1.5.0",
       "_model_name": "DescriptionStyleModel",
       "_view_count": null,
       "_view_module": "@jupyter-widgets/base",
       "_view_module_version": "1.2.0",
       "_view_name": "StyleView",
       "description_width": ""
      }
     },
     "a6e4166adda64ff4a0f40fe7bf922c22": {
      "model_module": "@jupyter-widgets/base",
      "model_module_version": "1.2.0",
      "model_name": "LayoutModel",
      "state": {
       "_model_module": "@jupyter-widgets/base",
       "_model_module_version": "1.2.0",
       "_model_name": "LayoutModel",
       "_view_count": null,
       "_view_module": "@jupyter-widgets/base",
       "_view_module_version": "1.2.0",
       "_view_name": "LayoutView",
       "align_content": null,
       "align_items": null,
       "align_self": null,
       "border": null,
       "bottom": null,
       "display": null,
       "flex": null,
       "flex_flow": null,
       "grid_area": null,
       "grid_auto_columns": null,
       "grid_auto_flow": null,
       "grid_auto_rows": null,
       "grid_column": null,
       "grid_gap": null,
       "grid_row": null,
       "grid_template_areas": null,
       "grid_template_columns": null,
       "grid_template_rows": null,
       "height": null,
       "justify_content": null,
       "justify_items": null,
       "left": null,
       "margin": null,
       "max_height": null,
       "max_width": null,
       "min_height": null,
       "min_width": null,
       "object_fit": null,
       "object_position": null,
       "order": null,
       "overflow": null,
       "overflow_x": null,
       "overflow_y": null,
       "padding": null,
       "right": null,
       "top": null,
       "visibility": null,
       "width": null
      }
     },
     "aa7cad5a867f4c078ebb786ba4c56d4a": {
      "model_module": "@jupyter-widgets/base",
      "model_module_version": "1.2.0",
      "model_name": "LayoutModel",
      "state": {
       "_model_module": "@jupyter-widgets/base",
       "_model_module_version": "1.2.0",
       "_model_name": "LayoutModel",
       "_view_count": null,
       "_view_module": "@jupyter-widgets/base",
       "_view_module_version": "1.2.0",
       "_view_name": "LayoutView",
       "align_content": null,
       "align_items": null,
       "align_self": null,
       "border": null,
       "bottom": null,
       "display": null,
       "flex": null,
       "flex_flow": null,
       "grid_area": null,
       "grid_auto_columns": null,
       "grid_auto_flow": null,
       "grid_auto_rows": null,
       "grid_column": null,
       "grid_gap": null,
       "grid_row": null,
       "grid_template_areas": null,
       "grid_template_columns": null,
       "grid_template_rows": null,
       "height": null,
       "justify_content": null,
       "justify_items": null,
       "left": null,
       "margin": null,
       "max_height": null,
       "max_width": null,
       "min_height": null,
       "min_width": null,
       "object_fit": null,
       "object_position": null,
       "order": null,
       "overflow": null,
       "overflow_x": null,
       "overflow_y": null,
       "padding": null,
       "right": null,
       "top": null,
       "visibility": null,
       "width": null
      }
     },
     "ac15a72ace6b41eea8c5f503eba2502d": {
      "model_module": "@jupyter-widgets/base",
      "model_module_version": "1.2.0",
      "model_name": "LayoutModel",
      "state": {
       "_model_module": "@jupyter-widgets/base",
       "_model_module_version": "1.2.0",
       "_model_name": "LayoutModel",
       "_view_count": null,
       "_view_module": "@jupyter-widgets/base",
       "_view_module_version": "1.2.0",
       "_view_name": "LayoutView",
       "align_content": null,
       "align_items": null,
       "align_self": null,
       "border": null,
       "bottom": null,
       "display": null,
       "flex": null,
       "flex_flow": null,
       "grid_area": null,
       "grid_auto_columns": null,
       "grid_auto_flow": null,
       "grid_auto_rows": null,
       "grid_column": null,
       "grid_gap": null,
       "grid_row": null,
       "grid_template_areas": null,
       "grid_template_columns": null,
       "grid_template_rows": null,
       "height": null,
       "justify_content": null,
       "justify_items": null,
       "left": null,
       "margin": null,
       "max_height": null,
       "max_width": null,
       "min_height": null,
       "min_width": null,
       "object_fit": null,
       "object_position": null,
       "order": null,
       "overflow": null,
       "overflow_x": null,
       "overflow_y": null,
       "padding": null,
       "right": null,
       "top": null,
       "visibility": null,
       "width": null
      }
     },
     "acdd820a53b74346982c1f5057013a1b": {
      "model_module": "@jupyter-widgets/base",
      "model_module_version": "1.2.0",
      "model_name": "LayoutModel",
      "state": {
       "_model_module": "@jupyter-widgets/base",
       "_model_module_version": "1.2.0",
       "_model_name": "LayoutModel",
       "_view_count": null,
       "_view_module": "@jupyter-widgets/base",
       "_view_module_version": "1.2.0",
       "_view_name": "LayoutView",
       "align_content": null,
       "align_items": null,
       "align_self": null,
       "border": null,
       "bottom": null,
       "display": null,
       "flex": null,
       "flex_flow": null,
       "grid_area": null,
       "grid_auto_columns": null,
       "grid_auto_flow": null,
       "grid_auto_rows": null,
       "grid_column": null,
       "grid_gap": null,
       "grid_row": null,
       "grid_template_areas": null,
       "grid_template_columns": null,
       "grid_template_rows": null,
       "height": null,
       "justify_content": null,
       "justify_items": null,
       "left": null,
       "margin": null,
       "max_height": null,
       "max_width": null,
       "min_height": null,
       "min_width": null,
       "object_fit": null,
       "object_position": null,
       "order": null,
       "overflow": null,
       "overflow_x": null,
       "overflow_y": null,
       "padding": null,
       "right": null,
       "top": null,
       "visibility": null,
       "width": null
      }
     },
     "afaaed34f3954ae8b8526e4fc242b7ec": {
      "model_module": "@jupyter-widgets/controls",
      "model_module_version": "1.5.0",
      "model_name": "FloatProgressModel",
      "state": {
       "_dom_classes": [],
       "_model_module": "@jupyter-widgets/controls",
       "_model_module_version": "1.5.0",
       "_model_name": "FloatProgressModel",
       "_view_count": null,
       "_view_module": "@jupyter-widgets/controls",
       "_view_module_version": "1.5.0",
       "_view_name": "ProgressView",
       "bar_style": "",
       "description": "",
       "description_tooltip": null,
       "layout": "IPY_MODEL_f15c9b64e27b4326b5a9e71dd023fea3",
       "max": 25000.0,
       "min": 0.0,
       "orientation": "horizontal",
       "style": "IPY_MODEL_78be5cfae02a442b9f6e0580e69720b9",
       "value": 25000.0
      }
     },
     "b0e3b11db1a348baa45de771e709c478": {
      "model_module": "@jupyter-widgets/base",
      "model_module_version": "1.2.0",
      "model_name": "LayoutModel",
      "state": {
       "_model_module": "@jupyter-widgets/base",
       "_model_module_version": "1.2.0",
       "_model_name": "LayoutModel",
       "_view_count": null,
       "_view_module": "@jupyter-widgets/base",
       "_view_module_version": "1.2.0",
       "_view_name": "LayoutView",
       "align_content": null,
       "align_items": null,
       "align_self": null,
       "border": null,
       "bottom": null,
       "display": null,
       "flex": null,
       "flex_flow": null,
       "grid_area": null,
       "grid_auto_columns": null,
       "grid_auto_flow": null,
       "grid_auto_rows": null,
       "grid_column": null,
       "grid_gap": null,
       "grid_row": null,
       "grid_template_areas": null,
       "grid_template_columns": null,
       "grid_template_rows": null,
       "height": null,
       "justify_content": null,
       "justify_items": null,
       "left": null,
       "margin": null,
       "max_height": null,
       "max_width": null,
       "min_height": null,
       "min_width": null,
       "object_fit": null,
       "object_position": null,
       "order": null,
       "overflow": null,
       "overflow_x": null,
       "overflow_y": null,
       "padding": null,
       "right": null,
       "top": null,
       "visibility": null,
       "width": null
      }
     },
     "b2002a35de0c4f7ab17b3b226304463b": {
      "model_module": "@jupyter-widgets/base",
      "model_module_version": "1.2.0",
      "model_name": "LayoutModel",
      "state": {
       "_model_module": "@jupyter-widgets/base",
       "_model_module_version": "1.2.0",
       "_model_name": "LayoutModel",
       "_view_count": null,
       "_view_module": "@jupyter-widgets/base",
       "_view_module_version": "1.2.0",
       "_view_name": "LayoutView",
       "align_content": null,
       "align_items": null,
       "align_self": null,
       "border": null,
       "bottom": null,
       "display": null,
       "flex": null,
       "flex_flow": null,
       "grid_area": null,
       "grid_auto_columns": null,
       "grid_auto_flow": null,
       "grid_auto_rows": null,
       "grid_column": null,
       "grid_gap": null,
       "grid_row": null,
       "grid_template_areas": null,
       "grid_template_columns": null,
       "grid_template_rows": null,
       "height": null,
       "justify_content": null,
       "justify_items": null,
       "left": null,
       "margin": null,
       "max_height": null,
       "max_width": null,
       "min_height": null,
       "min_width": null,
       "object_fit": null,
       "object_position": null,
       "order": null,
       "overflow": null,
       "overflow_x": null,
       "overflow_y": null,
       "padding": null,
       "right": null,
       "top": null,
       "visibility": null,
       "width": "20px"
      }
     },
     "b2a28c40d3574f7695e071ee8aaa7bcd": {
      "model_module": "@jupyter-widgets/base",
      "model_module_version": "1.2.0",
      "model_name": "LayoutModel",
      "state": {
       "_model_module": "@jupyter-widgets/base",
       "_model_module_version": "1.2.0",
       "_model_name": "LayoutModel",
       "_view_count": null,
       "_view_module": "@jupyter-widgets/base",
       "_view_module_version": "1.2.0",
       "_view_name": "LayoutView",
       "align_content": null,
       "align_items": null,
       "align_self": null,
       "border": null,
       "bottom": null,
       "display": null,
       "flex": null,
       "flex_flow": null,
       "grid_area": null,
       "grid_auto_columns": null,
       "grid_auto_flow": null,
       "grid_auto_rows": null,
       "grid_column": null,
       "grid_gap": null,
       "grid_row": null,
       "grid_template_areas": null,
       "grid_template_columns": null,
       "grid_template_rows": null,
       "height": null,
       "justify_content": null,
       "justify_items": null,
       "left": null,
       "margin": null,
       "max_height": null,
       "max_width": null,
       "min_height": null,
       "min_width": null,
       "object_fit": null,
       "object_position": null,
       "order": null,
       "overflow": null,
       "overflow_x": null,
       "overflow_y": null,
       "padding": null,
       "right": null,
       "top": null,
       "visibility": null,
       "width": null
      }
     },
     "b47dfcd287aa4ef1bb2b3efd0219f85d": {
      "model_module": "@jupyter-widgets/controls",
      "model_module_version": "1.5.0",
      "model_name": "DescriptionStyleModel",
      "state": {
       "_model_module": "@jupyter-widgets/controls",
       "_model_module_version": "1.5.0",
       "_model_name": "DescriptionStyleModel",
       "_view_count": null,
       "_view_module": "@jupyter-widgets/base",
       "_view_module_version": "1.2.0",
       "_view_name": "StyleView",
       "description_width": ""
      }
     },
     "b5a809f55930434ca2ec9115a99fb4d2": {
      "model_module": "@jupyter-widgets/controls",
      "model_module_version": "1.5.0",
      "model_name": "DescriptionStyleModel",
      "state": {
       "_model_module": "@jupyter-widgets/controls",
       "_model_module_version": "1.5.0",
       "_model_name": "DescriptionStyleModel",
       "_view_count": null,
       "_view_module": "@jupyter-widgets/base",
       "_view_module_version": "1.2.0",
       "_view_name": "StyleView",
       "description_width": ""
      }
     },
     "b76351734842497da36ba13629939b67": {
      "model_module": "@jupyter-widgets/controls",
      "model_module_version": "1.5.0",
      "model_name": "DescriptionStyleModel",
      "state": {
       "_model_module": "@jupyter-widgets/controls",
       "_model_module_version": "1.5.0",
       "_model_name": "DescriptionStyleModel",
       "_view_count": null,
       "_view_module": "@jupyter-widgets/base",
       "_view_module_version": "1.2.0",
       "_view_name": "StyleView",
       "description_width": ""
      }
     },
     "b87b43ecd56846369745b0b78c3e7278": {
      "model_module": "@jupyter-widgets/controls",
      "model_module_version": "1.5.0",
      "model_name": "ProgressStyleModel",
      "state": {
       "_model_module": "@jupyter-widgets/controls",
       "_model_module_version": "1.5.0",
       "_model_name": "ProgressStyleModel",
       "_view_count": null,
       "_view_module": "@jupyter-widgets/base",
       "_view_module_version": "1.2.0",
       "_view_name": "StyleView",
       "bar_color": null,
       "description_width": ""
      }
     },
     "ba87c0abfa8a4785a045230042c61800": {
      "model_module": "@jupyter-widgets/base",
      "model_module_version": "1.2.0",
      "model_name": "LayoutModel",
      "state": {
       "_model_module": "@jupyter-widgets/base",
       "_model_module_version": "1.2.0",
       "_model_name": "LayoutModel",
       "_view_count": null,
       "_view_module": "@jupyter-widgets/base",
       "_view_module_version": "1.2.0",
       "_view_name": "LayoutView",
       "align_content": null,
       "align_items": null,
       "align_self": null,
       "border": null,
       "bottom": null,
       "display": null,
       "flex": null,
       "flex_flow": null,
       "grid_area": null,
       "grid_auto_columns": null,
       "grid_auto_flow": null,
       "grid_auto_rows": null,
       "grid_column": null,
       "grid_gap": null,
       "grid_row": null,
       "grid_template_areas": null,
       "grid_template_columns": null,
       "grid_template_rows": null,
       "height": null,
       "justify_content": null,
       "justify_items": null,
       "left": null,
       "margin": null,
       "max_height": null,
       "max_width": null,
       "min_height": null,
       "min_width": null,
       "object_fit": null,
       "object_position": null,
       "order": null,
       "overflow": null,
       "overflow_x": null,
       "overflow_y": null,
       "padding": null,
       "right": null,
       "top": null,
       "visibility": null,
       "width": null
      }
     },
     "bb88ecada2e446c8994fd163d3e3f961": {
      "model_module": "@jupyter-widgets/base",
      "model_module_version": "1.2.0",
      "model_name": "LayoutModel",
      "state": {
       "_model_module": "@jupyter-widgets/base",
       "_model_module_version": "1.2.0",
       "_model_name": "LayoutModel",
       "_view_count": null,
       "_view_module": "@jupyter-widgets/base",
       "_view_module_version": "1.2.0",
       "_view_name": "LayoutView",
       "align_content": null,
       "align_items": null,
       "align_self": null,
       "border": null,
       "bottom": null,
       "display": null,
       "flex": null,
       "flex_flow": null,
       "grid_area": null,
       "grid_auto_columns": null,
       "grid_auto_flow": null,
       "grid_auto_rows": null,
       "grid_column": null,
       "grid_gap": null,
       "grid_row": null,
       "grid_template_areas": null,
       "grid_template_columns": null,
       "grid_template_rows": null,
       "height": null,
       "justify_content": null,
       "justify_items": null,
       "left": null,
       "margin": null,
       "max_height": null,
       "max_width": null,
       "min_height": null,
       "min_width": null,
       "object_fit": null,
       "object_position": null,
       "order": null,
       "overflow": null,
       "overflow_x": null,
       "overflow_y": null,
       "padding": null,
       "right": null,
       "top": null,
       "visibility": null,
       "width": null
      }
     },
     "c03d284dd8e74275930c4f03407d6d2d": {
      "model_module": "@jupyter-widgets/controls",
      "model_module_version": "1.5.0",
      "model_name": "DescriptionStyleModel",
      "state": {
       "_model_module": "@jupyter-widgets/controls",
       "_model_module_version": "1.5.0",
       "_model_name": "DescriptionStyleModel",
       "_view_count": null,
       "_view_module": "@jupyter-widgets/base",
       "_view_module_version": "1.2.0",
       "_view_name": "StyleView",
       "description_width": ""
      }
     },
     "c86f7dfd59c64925ad45da6a4d880d9e": {
      "model_module": "@jupyter-widgets/base",
      "model_module_version": "1.2.0",
      "model_name": "LayoutModel",
      "state": {
       "_model_module": "@jupyter-widgets/base",
       "_model_module_version": "1.2.0",
       "_model_name": "LayoutModel",
       "_view_count": null,
       "_view_module": "@jupyter-widgets/base",
       "_view_module_version": "1.2.0",
       "_view_name": "LayoutView",
       "align_content": null,
       "align_items": null,
       "align_self": null,
       "border": null,
       "bottom": null,
       "display": null,
       "flex": null,
       "flex_flow": null,
       "grid_area": null,
       "grid_auto_columns": null,
       "grid_auto_flow": null,
       "grid_auto_rows": null,
       "grid_column": null,
       "grid_gap": null,
       "grid_row": null,
       "grid_template_areas": null,
       "grid_template_columns": null,
       "grid_template_rows": null,
       "height": null,
       "justify_content": null,
       "justify_items": null,
       "left": null,
       "margin": null,
       "max_height": null,
       "max_width": null,
       "min_height": null,
       "min_width": null,
       "object_fit": null,
       "object_position": null,
       "order": null,
       "overflow": null,
       "overflow_x": null,
       "overflow_y": null,
       "padding": null,
       "right": null,
       "top": null,
       "visibility": null,
       "width": null
      }
     },
     "ca3381bb8f504625b94d910fd606bd4f": {
      "model_module": "@jupyter-widgets/controls",
      "model_module_version": "1.5.0",
      "model_name": "HBoxModel",
      "state": {
       "_dom_classes": [],
       "_model_module": "@jupyter-widgets/controls",
       "_model_module_version": "1.5.0",
       "_model_name": "HBoxModel",
       "_view_count": null,
       "_view_module": "@jupyter-widgets/controls",
       "_view_module_version": "1.5.0",
       "_view_name": "HBoxView",
       "box_style": "",
       "children": [
        "IPY_MODEL_1e578fb8216243b69e997658c56f55ef",
        "IPY_MODEL_d6b4454886f84dfcaba4bb5a3a3d0ac3",
        "IPY_MODEL_a26860a6f7d043a0927b38fa1198526a"
       ],
       "layout": "IPY_MODEL_a6e4166adda64ff4a0f40fe7bf922c22"
      }
     },
     "cba3183f205e478ab1ce63844af2bebd": {
      "model_module": "@jupyter-widgets/base",
      "model_module_version": "1.2.0",
      "model_name": "LayoutModel",
      "state": {
       "_model_module": "@jupyter-widgets/base",
       "_model_module_version": "1.2.0",
       "_model_name": "LayoutModel",
       "_view_count": null,
       "_view_module": "@jupyter-widgets/base",
       "_view_module_version": "1.2.0",
       "_view_name": "LayoutView",
       "align_content": null,
       "align_items": null,
       "align_self": null,
       "border": null,
       "bottom": null,
       "display": null,
       "flex": null,
       "flex_flow": null,
       "grid_area": null,
       "grid_auto_columns": null,
       "grid_auto_flow": null,
       "grid_auto_rows": null,
       "grid_column": null,
       "grid_gap": null,
       "grid_row": null,
       "grid_template_areas": null,
       "grid_template_columns": null,
       "grid_template_rows": null,
       "height": null,
       "justify_content": null,
       "justify_items": null,
       "left": null,
       "margin": null,
       "max_height": null,
       "max_width": null,
       "min_height": null,
       "min_width": null,
       "object_fit": null,
       "object_position": null,
       "order": null,
       "overflow": null,
       "overflow_x": null,
       "overflow_y": null,
       "padding": null,
       "right": null,
       "top": null,
       "visibility": null,
       "width": null
      }
     },
     "cd0ec4e38969471ea54740f6aa74d91b": {
      "model_module": "@jupyter-widgets/controls",
      "model_module_version": "1.5.0",
      "model_name": "HBoxModel",
      "state": {
       "_dom_classes": [],
       "_model_module": "@jupyter-widgets/controls",
       "_model_module_version": "1.5.0",
       "_model_name": "HBoxModel",
       "_view_count": null,
       "_view_module": "@jupyter-widgets/controls",
       "_view_module_version": "1.5.0",
       "_view_name": "HBoxView",
       "box_style": "",
       "children": [
        "IPY_MODEL_28620ebd973b40b7bda0cc4f638477ca",
        "IPY_MODEL_9d514f2d43894d2da8a61aa83abe9f23",
        "IPY_MODEL_482f92b216a6407faf09ac94dc9cd2df"
       ],
       "layout": "IPY_MODEL_5b993c3164964b158bb1dbfec84b292f"
      }
     },
     "d1bf603e88ee4baf95fd278305aa153e": {
      "model_module": "@jupyter-widgets/controls",
      "model_module_version": "1.5.0",
      "model_name": "DescriptionStyleModel",
      "state": {
       "_model_module": "@jupyter-widgets/controls",
       "_model_module_version": "1.5.0",
       "_model_name": "DescriptionStyleModel",
       "_view_count": null,
       "_view_module": "@jupyter-widgets/base",
       "_view_module_version": "1.2.0",
       "_view_name": "StyleView",
       "description_width": ""
      }
     },
     "d44f620d9a2540068ed1dcabfb1b6c8b": {
      "model_module": "@jupyter-widgets/base",
      "model_module_version": "1.2.0",
      "model_name": "LayoutModel",
      "state": {
       "_model_module": "@jupyter-widgets/base",
       "_model_module_version": "1.2.0",
       "_model_name": "LayoutModel",
       "_view_count": null,
       "_view_module": "@jupyter-widgets/base",
       "_view_module_version": "1.2.0",
       "_view_name": "LayoutView",
       "align_content": null,
       "align_items": null,
       "align_self": null,
       "border": null,
       "bottom": null,
       "display": null,
       "flex": null,
       "flex_flow": null,
       "grid_area": null,
       "grid_auto_columns": null,
       "grid_auto_flow": null,
       "grid_auto_rows": null,
       "grid_column": null,
       "grid_gap": null,
       "grid_row": null,
       "grid_template_areas": null,
       "grid_template_columns": null,
       "grid_template_rows": null,
       "height": null,
       "justify_content": null,
       "justify_items": null,
       "left": null,
       "margin": null,
       "max_height": null,
       "max_width": null,
       "min_height": null,
       "min_width": null,
       "object_fit": null,
       "object_position": null,
       "order": null,
       "overflow": null,
       "overflow_x": null,
       "overflow_y": null,
       "padding": null,
       "right": null,
       "top": null,
       "visibility": null,
       "width": null
      }
     },
     "d6b4454886f84dfcaba4bb5a3a3d0ac3": {
      "model_module": "@jupyter-widgets/controls",
      "model_module_version": "1.5.0",
      "model_name": "FloatProgressModel",
      "state": {
       "_dom_classes": [],
       "_model_module": "@jupyter-widgets/controls",
       "_model_module_version": "1.5.0",
       "_model_name": "FloatProgressModel",
       "_view_count": null,
       "_view_module": "@jupyter-widgets/controls",
       "_view_module_version": "1.5.0",
       "_view_name": "ProgressView",
       "bar_style": "success",
       "description": "",
       "description_tooltip": null,
       "layout": "IPY_MODEL_91f8c45f52ec4f78b588836b255f73a7",
       "max": 1.0,
       "min": 0.0,
       "orientation": "horizontal",
       "style": "IPY_MODEL_9f2dc1a30b7b496b944a48125f111e61",
       "value": 1.0
      }
     },
     "d85b036b34ea4b57af2235e792f2ba62": {
      "model_module": "@jupyter-widgets/controls",
      "model_module_version": "1.5.0",
      "model_name": "ProgressStyleModel",
      "state": {
       "_model_module": "@jupyter-widgets/controls",
       "_model_module_version": "1.5.0",
       "_model_name": "ProgressStyleModel",
       "_view_count": null,
       "_view_module": "@jupyter-widgets/base",
       "_view_module_version": "1.2.0",
       "_view_name": "StyleView",
       "bar_color": null,
       "description_width": ""
      }
     },
     "d925a2a24eca44a8aff2c26862a3e044": {
      "model_module": "@jupyter-widgets/base",
      "model_module_version": "1.2.0",
      "model_name": "LayoutModel",
      "state": {
       "_model_module": "@jupyter-widgets/base",
       "_model_module_version": "1.2.0",
       "_model_name": "LayoutModel",
       "_view_count": null,
       "_view_module": "@jupyter-widgets/base",
       "_view_module_version": "1.2.0",
       "_view_name": "LayoutView",
       "align_content": null,
       "align_items": null,
       "align_self": null,
       "border": null,
       "bottom": null,
       "display": null,
       "flex": null,
       "flex_flow": null,
       "grid_area": null,
       "grid_auto_columns": null,
       "grid_auto_flow": null,
       "grid_auto_rows": null,
       "grid_column": null,
       "grid_gap": null,
       "grid_row": null,
       "grid_template_areas": null,
       "grid_template_columns": null,
       "grid_template_rows": null,
       "height": null,
       "justify_content": null,
       "justify_items": null,
       "left": null,
       "margin": null,
       "max_height": null,
       "max_width": null,
       "min_height": null,
       "min_width": null,
       "object_fit": null,
       "object_position": null,
       "order": null,
       "overflow": null,
       "overflow_x": null,
       "overflow_y": null,
       "padding": null,
       "right": null,
       "top": null,
       "visibility": "hidden",
       "width": null
      }
     },
     "e3377f9ea0554e03b5025456ccf1d3d2": {
      "model_module": "@jupyter-widgets/base",
      "model_module_version": "1.2.0",
      "model_name": "LayoutModel",
      "state": {
       "_model_module": "@jupyter-widgets/base",
       "_model_module_version": "1.2.0",
       "_model_name": "LayoutModel",
       "_view_count": null,
       "_view_module": "@jupyter-widgets/base",
       "_view_module_version": "1.2.0",
       "_view_name": "LayoutView",
       "align_content": null,
       "align_items": null,
       "align_self": null,
       "border": null,
       "bottom": null,
       "display": null,
       "flex": null,
       "flex_flow": null,
       "grid_area": null,
       "grid_auto_columns": null,
       "grid_auto_flow": null,
       "grid_auto_rows": null,
       "grid_column": null,
       "grid_gap": null,
       "grid_row": null,
       "grid_template_areas": null,
       "grid_template_columns": null,
       "grid_template_rows": null,
       "height": null,
       "justify_content": null,
       "justify_items": null,
       "left": null,
       "margin": null,
       "max_height": null,
       "max_width": null,
       "min_height": null,
       "min_width": null,
       "object_fit": null,
       "object_position": null,
       "order": null,
       "overflow": null,
       "overflow_x": null,
       "overflow_y": null,
       "padding": null,
       "right": null,
       "top": null,
       "visibility": null,
       "width": null
      }
     },
     "e3ac445d6b2548d385b4c05685b8ed82": {
      "model_module": "@jupyter-widgets/base",
      "model_module_version": "1.2.0",
      "model_name": "LayoutModel",
      "state": {
       "_model_module": "@jupyter-widgets/base",
       "_model_module_version": "1.2.0",
       "_model_name": "LayoutModel",
       "_view_count": null,
       "_view_module": "@jupyter-widgets/base",
       "_view_module_version": "1.2.0",
       "_view_name": "LayoutView",
       "align_content": null,
       "align_items": null,
       "align_self": null,
       "border": null,
       "bottom": null,
       "display": null,
       "flex": null,
       "flex_flow": null,
       "grid_area": null,
       "grid_auto_columns": null,
       "grid_auto_flow": null,
       "grid_auto_rows": null,
       "grid_column": null,
       "grid_gap": null,
       "grid_row": null,
       "grid_template_areas": null,
       "grid_template_columns": null,
       "grid_template_rows": null,
       "height": null,
       "justify_content": null,
       "justify_items": null,
       "left": null,
       "margin": null,
       "max_height": null,
       "max_width": null,
       "min_height": null,
       "min_width": null,
       "object_fit": null,
       "object_position": null,
       "order": null,
       "overflow": null,
       "overflow_x": null,
       "overflow_y": null,
       "padding": null,
       "right": null,
       "top": null,
       "visibility": null,
       "width": null
      }
     },
     "e45a53e7a5544e9087399d068effcc9d": {
      "model_module": "@jupyter-widgets/base",
      "model_module_version": "1.2.0",
      "model_name": "LayoutModel",
      "state": {
       "_model_module": "@jupyter-widgets/base",
       "_model_module_version": "1.2.0",
       "_model_name": "LayoutModel",
       "_view_count": null,
       "_view_module": "@jupyter-widgets/base",
       "_view_module_version": "1.2.0",
       "_view_name": "LayoutView",
       "align_content": null,
       "align_items": null,
       "align_self": null,
       "border": null,
       "bottom": null,
       "display": null,
       "flex": null,
       "flex_flow": null,
       "grid_area": null,
       "grid_auto_columns": null,
       "grid_auto_flow": null,
       "grid_auto_rows": null,
       "grid_column": null,
       "grid_gap": null,
       "grid_row": null,
       "grid_template_areas": null,
       "grid_template_columns": null,
       "grid_template_rows": null,
       "height": null,
       "justify_content": null,
       "justify_items": null,
       "left": null,
       "margin": null,
       "max_height": null,
       "max_width": null,
       "min_height": null,
       "min_width": null,
       "object_fit": null,
       "object_position": null,
       "order": null,
       "overflow": null,
       "overflow_x": null,
       "overflow_y": null,
       "padding": null,
       "right": null,
       "top": null,
       "visibility": null,
       "width": null
      }
     },
     "e5fea53d712c49d1a596ff2742d2de3d": {
      "model_module": "@jupyter-widgets/controls",
      "model_module_version": "1.5.0",
      "model_name": "DescriptionStyleModel",
      "state": {
       "_model_module": "@jupyter-widgets/controls",
       "_model_module_version": "1.5.0",
       "_model_name": "DescriptionStyleModel",
       "_view_count": null,
       "_view_module": "@jupyter-widgets/base",
       "_view_module_version": "1.2.0",
       "_view_name": "StyleView",
       "description_width": ""
      }
     },
     "e83b8c61677f4c0f99266c262e3ac790": {
      "model_module": "@jupyter-widgets/controls",
      "model_module_version": "1.5.0",
      "model_name": "DescriptionStyleModel",
      "state": {
       "_model_module": "@jupyter-widgets/controls",
       "_model_module_version": "1.5.0",
       "_model_name": "DescriptionStyleModel",
       "_view_count": null,
       "_view_module": "@jupyter-widgets/base",
       "_view_module_version": "1.2.0",
       "_view_name": "StyleView",
       "description_width": ""
      }
     },
     "eb0f5521ce5646fa9bca928f1b33b9c6": {
      "model_module": "@jupyter-widgets/controls",
      "model_module_version": "1.5.0",
      "model_name": "HTMLModel",
      "state": {
       "_dom_classes": [],
       "_model_module": "@jupyter-widgets/controls",
       "_model_module_version": "1.5.0",
       "_model_name": "HTMLModel",
       "_view_count": null,
       "_view_module": "@jupyter-widgets/controls",
       "_view_module_version": "1.5.0",
       "_view_name": "HTMLView",
       "description": "",
       "description_tooltip": null,
       "layout": "IPY_MODEL_7db4d321215b490fb1dfeb2031ee498b",
       "placeholder": "​",
       "style": "IPY_MODEL_19cf505546b64510b37faef10e7d06cc",
       "value": "Generating splits...: 100%"
      }
     },
     "f15c9b64e27b4326b5a9e71dd023fea3": {
      "model_module": "@jupyter-widgets/base",
      "model_module_version": "1.2.0",
      "model_name": "LayoutModel",
      "state": {
       "_model_module": "@jupyter-widgets/base",
       "_model_module_version": "1.2.0",
       "_model_name": "LayoutModel",
       "_view_count": null,
       "_view_module": "@jupyter-widgets/base",
       "_view_module_version": "1.2.0",
       "_view_name": "LayoutView",
       "align_content": null,
       "align_items": null,
       "align_self": null,
       "border": null,
       "bottom": null,
       "display": null,
       "flex": null,
       "flex_flow": null,
       "grid_area": null,
       "grid_auto_columns": null,
       "grid_auto_flow": null,
       "grid_auto_rows": null,
       "grid_column": null,
       "grid_gap": null,
       "grid_row": null,
       "grid_template_areas": null,
       "grid_template_columns": null,
       "grid_template_rows": null,
       "height": null,
       "justify_content": null,
       "justify_items": null,
       "left": null,
       "margin": null,
       "max_height": null,
       "max_width": null,
       "min_height": null,
       "min_width": null,
       "object_fit": null,
       "object_position": null,
       "order": null,
       "overflow": null,
       "overflow_x": null,
       "overflow_y": null,
       "padding": null,
       "right": null,
       "top": null,
       "visibility": null,
       "width": null
      }
     },
     "f368600193d54279933d67a4dd90d86c": {
      "model_module": "@jupyter-widgets/controls",
      "model_module_version": "1.5.0",
      "model_name": "HBoxModel",
      "state": {
       "_dom_classes": [],
       "_model_module": "@jupyter-widgets/controls",
       "_model_module_version": "1.5.0",
       "_model_name": "HBoxModel",
       "_view_count": null,
       "_view_module": "@jupyter-widgets/controls",
       "_view_module_version": "1.5.0",
       "_view_name": "HBoxView",
       "box_style": "",
       "children": [
        "IPY_MODEL_20239c8bf8a74a77b54bf3090ff9ce47",
        "IPY_MODEL_afaaed34f3954ae8b8526e4fc242b7ec",
        "IPY_MODEL_5284034eeeed420aa1241b04e8a883b5"
       ],
       "layout": "IPY_MODEL_084a614c4b5a44188eac64ab19088265"
      }
     },
     "f49b3378c56248a9bf90b183cd767cd2": {
      "model_module": "@jupyter-widgets/base",
      "model_module_version": "1.2.0",
      "model_name": "LayoutModel",
      "state": {
       "_model_module": "@jupyter-widgets/base",
       "_model_module_version": "1.2.0",
       "_model_name": "LayoutModel",
       "_view_count": null,
       "_view_module": "@jupyter-widgets/base",
       "_view_module_version": "1.2.0",
       "_view_name": "LayoutView",
       "align_content": null,
       "align_items": null,
       "align_self": null,
       "border": null,
       "bottom": null,
       "display": null,
       "flex": null,
       "flex_flow": null,
       "grid_area": null,
       "grid_auto_columns": null,
       "grid_auto_flow": null,
       "grid_auto_rows": null,
       "grid_column": null,
       "grid_gap": null,
       "grid_row": null,
       "grid_template_areas": null,
       "grid_template_columns": null,
       "grid_template_rows": null,
       "height": null,
       "justify_content": null,
       "justify_items": null,
       "left": null,
       "margin": null,
       "max_height": null,
       "max_width": null,
       "min_height": null,
       "min_width": null,
       "object_fit": null,
       "object_position": null,
       "order": null,
       "overflow": null,
       "overflow_x": null,
       "overflow_y": null,
       "padding": null,
       "right": null,
       "top": null,
       "visibility": "hidden",
       "width": null
      }
     },
     "f613339c5d514207b30ce1a08e47227f": {
      "model_module": "@jupyter-widgets/controls",
      "model_module_version": "1.5.0",
      "model_name": "FloatProgressModel",
      "state": {
       "_dom_classes": [],
       "_model_module": "@jupyter-widgets/controls",
       "_model_module_version": "1.5.0",
       "_model_name": "FloatProgressModel",
       "_view_count": null,
       "_view_module": "@jupyter-widgets/controls",
       "_view_module_version": "1.5.0",
       "_view_name": "ProgressView",
       "bar_style": "",
       "description": "",
       "description_tooltip": null,
       "layout": "IPY_MODEL_e3377f9ea0554e03b5025456ccf1d3d2",
       "max": 50000.0,
       "min": 0.0,
       "orientation": "horizontal",
       "style": "IPY_MODEL_74472e0f8e554b19be8a84fc864ebde2",
       "value": 50000.0
      }
     },
     "f6669295d980408d86d96283119d138a": {
      "model_module": "@jupyter-widgets/controls",
      "model_module_version": "1.5.0",
      "model_name": "HTMLModel",
      "state": {
       "_dom_classes": [],
       "_model_module": "@jupyter-widgets/controls",
       "_model_module_version": "1.5.0",
       "_model_name": "HTMLModel",
       "_view_count": null,
       "_view_module": "@jupyter-widgets/controls",
       "_view_module_version": "1.5.0",
       "_view_name": "HTMLView",
       "description": "",
       "description_tooltip": null,
       "layout": "IPY_MODEL_94645c18645c485783ea3d636251e833",
       "placeholder": "​",
       "style": "IPY_MODEL_746455737bb4455bac386c712362acc5",
       "value": " 80/80 [00:03&lt;00:00, 20.76 MiB/s]"
      }
     },
     "f6c8df79794e4ad7b41d133d9abf06d4": {
      "model_module": "@jupyter-widgets/controls",
      "model_module_version": "1.5.0",
      "model_name": "HTMLModel",
      "state": {
       "_dom_classes": [],
       "_model_module": "@jupyter-widgets/controls",
       "_model_module_version": "1.5.0",
       "_model_name": "HTMLModel",
       "_view_count": null,
       "_view_module": "@jupyter-widgets/controls",
       "_view_module_version": "1.5.0",
       "_view_name": "HTMLView",
       "description": "",
       "description_tooltip": null,
       "layout": "IPY_MODEL_cba3183f205e478ab1ce63844af2bebd",
       "placeholder": "​",
       "style": "IPY_MODEL_786b2a1abab749418cc111b9be0a1553",
       "value": " 22822/25000 [00:08&lt;00:00, 3777.75 examples/s]"
      }
     },
     "f850077dd30b44a0a1f8a502daf7c91e": {
      "model_module": "@jupyter-widgets/controls",
      "model_module_version": "1.5.0",
      "model_name": "FloatProgressModel",
      "state": {
       "_dom_classes": [],
       "_model_module": "@jupyter-widgets/controls",
       "_model_module_version": "1.5.0",
       "_model_name": "FloatProgressModel",
       "_view_count": null,
       "_view_module": "@jupyter-widgets/controls",
       "_view_module_version": "1.5.0",
       "_view_name": "ProgressView",
       "bar_style": "success",
       "description": "",
       "description_tooltip": null,
       "layout": "IPY_MODEL_b2002a35de0c4f7ab17b3b226304463b",
       "max": 1.0,
       "min": 0.0,
       "orientation": "horizontal",
       "style": "IPY_MODEL_b87b43ecd56846369745b0b78c3e7278",
       "value": 1.0
      }
     },
     "f8e940f5c1e645cb8f5064259ecae872": {
      "model_module": "@jupyter-widgets/controls",
      "model_module_version": "1.5.0",
      "model_name": "HBoxModel",
      "state": {
       "_dom_classes": [],
       "_model_module": "@jupyter-widgets/controls",
       "_model_module_version": "1.5.0",
       "_model_name": "HBoxModel",
       "_view_count": null,
       "_view_module": "@jupyter-widgets/controls",
       "_view_module_version": "1.5.0",
       "_view_name": "HBoxView",
       "box_style": "",
       "children": [
        "IPY_MODEL_48f2cbff763a4f22833b4531ec5d010b",
        "IPY_MODEL_809c213fe84d4e07a745e33946483780",
        "IPY_MODEL_16261300fd1249be8225196482b3683e"
       ],
       "layout": "IPY_MODEL_3cfa96ad77fb442497db76ea3c3dfabf"
      }
     }
    },
    "version_major": 2,
    "version_minor": 0
   }
  }
 },
 "nbformat": 4,
 "nbformat_minor": 5
}
